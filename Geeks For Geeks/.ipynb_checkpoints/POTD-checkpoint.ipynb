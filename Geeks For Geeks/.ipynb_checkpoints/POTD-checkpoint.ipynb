{
 "cells": [
  {
   "cell_type": "markdown",
   "id": "f60a2f21",
   "metadata": {},
   "source": [
    "## Date : 27-02-24"
   ]
  },
  {
   "cell_type": "markdown",
   "id": "a5a0dd03",
   "metadata": {},
   "source": [
    "---\n",
    "## Play With OR\n",
    "\n",
    "\n",
    "You are given an array `arr[]` of length `n`, you have to re-construct the same array `arr[]` in-place. The `arr[i]` after reconstruction will become `arr[i] OR arr[i+1]`, where OR is bitwise or. If for some `i`, `i+1` does not exist, then do not change `arr[i]`.\n",
    "\n",
    "**Example 1:**\n",
    "\n",
    "Input:\n",
    "n = 5\n",
    "arr[] = {10, 11, 1, 2, 3}\n",
    "Output:\n",
    "11 11 3 3 3\n",
    "Explanation:\n",
    "At index 0, arr[0] or arr[1] = 11\n",
    "At index 1, arr[1] or arr[2] = 11\n",
    "At index 2, arr[2] or arr[3] = 3\n",
    "...\n",
    "At index 4, No element is left So, it will remain as it is.\n",
    "New Array will be {11, 11, 3, 3, 3}.\n",
    "\n",
    "**Example 2:**\n",
    "\n",
    "Input:\n",
    "n = 4\n",
    "arr[] = {5, 9, 2, 6} \n",
    "Output:\n",
    "13 11 6 6\n",
    "Explanation:\n",
    "At index 0, arr[0] or arr[1] = 13.\n",
    "At index 1, arr[1] or arr[2] = 11.\n",
    "At index 2, arr[2] or arr[3] = 6.\n",
    "At index 3, No element is left So, it will remain as it is.\n",
    "New Array will be {13, 11, 6, 6}.\n",
    "\n",
    "**Your Task:**\n",
    "You are required to implement the function `game_with_number()`, which takes an array `arr`, representing values at each index, and the size of the array `n`. The function should modify the elements of the same array `arr[]` in-place by replacing them with the values obtained by performing the bitwise OR operation on consecutive elements.\n",
    "\n",
    "**Expected Time Complexity:** O(n).\n",
    "**Expected Auxiliary Space:** O(1).\n",
    "\n",
    "**Constraints:**\n",
    "- 1 ≤ n ≤ 10^5\n",
    "- 1 ≤ arr[i] ≤ 10^7\n",
    "\n",
    "---\n"
   ]
  },
  {
   "cell_type": "code",
   "execution_count": 1,
   "id": "c17b0caa",
   "metadata": {},
   "outputs": [
    {
     "name": "stdout",
     "output_type": "stream",
     "text": [
      "10 11 1 2 3\n",
      "11 11 3 3 3\n"
     ]
    }
   ],
   "source": [
    "class Solution:\n",
    "    def game_with_number (self, arr,  n) : \n",
    "        for i in range(n-1):\n",
    "            arr[i] |=arr[i+1]\n",
    "        return arr\n",
    "arr = list(map(int, input().strip().split()))\n",
    "n = len(arr)\n",
    "ob = Solution()\n",
    "res = ob.game_with_number(arr, n)\n",
    "print(*res)\n"
   ]
  },
  {
   "cell_type": "markdown",
   "id": "c58632a4",
   "metadata": {},
   "source": [
    "## Date: 28-02-24"
   ]
  },
  {
   "cell_type": "markdown",
   "id": "f7deacd2",
   "metadata": {},
   "source": [
    "## Check if a number is divisible by 8\n",
    "\n",
    "Given a string representation of a decimal number s, check whether it is divisible by 8.\n",
    "\n",
    "**Example 1:**\n",
    "\n",
    "**Input:**  \n",
    "s = \"16\"  \n",
    "**Output:**  \n",
    "1  \n",
    "**Explanation:**  \n",
    "The given number is divisible by 8, so the driver code prints 1 as the output.\n",
    "\n",
    "**Example 2:**\n",
    "\n",
    "**Input:**  \n",
    "s = \"54141111648421214584416464555\"  \n",
    "**Output:**  \n",
    "-1  \n",
    "**Explanation:**  \n",
    "Given Number is not divisible by 8, so the driver code prints -1 as the output.\n",
    "\n",
    "**Your Task:**  \n",
    "You don't need to read input or print anything. Your task is to complete the function `DivisibleByEight()` which takes a string s as the input and returns 1 if the number is divisible by 8, else it returns -1.\n",
    "\n",
    "**Expected Time Complexity:** O(1).  \n",
    "**Expected Auxiliary Space:** O(1).\n",
    "\n",
    "**Constraints:**  \n",
    "- 1 <= |s| <= 10^6\n"
   ]
  },
  {
   "cell_type": "code",
   "execution_count": 2,
   "id": "2be2d580",
   "metadata": {},
   "outputs": [
    {
     "name": "stdout",
     "output_type": "stream",
     "text": [
      "2\n",
      "16\n",
      "1\n",
      "54141111648421214584416464555\n",
      "-1\n"
     ]
    }
   ],
   "source": [
    "#User function Template for python3\n",
    "\n",
    "class Solution:\n",
    "    def DivisibleByEight(self,s):\n",
    "        n=len(s)\n",
    "        if n<3:\n",
    "            s=s.zfill(3)\n",
    "            n=3\n",
    "        ltd=int(s[-3:])\n",
    "        if ltd%8==0:\n",
    "            return 1\n",
    "        else:\n",
    "            return -1\n",
    "\n",
    "\n",
    "#{ \n",
    " # Driver Code Starts\n",
    "#Initial Template for Python 3\n",
    "\n",
    "if __name__=='__main__':\n",
    "    t=int(input())\n",
    "    for _ in range(t):\n",
    "        S=input()\n",
    "        ob=Solution()\n",
    "        print(ob.DivisibleByEight(S))\n",
    "# } Driver Code Ends"
   ]
  }
 ],
 "metadata": {
  "kernelspec": {
   "display_name": "Python 3 (ipykernel)",
   "language": "python",
   "name": "python3"
  },
  "language_info": {
   "codemirror_mode": {
    "name": "ipython",
    "version": 3
   },
   "file_extension": ".py",
   "mimetype": "text/x-python",
   "name": "python",
   "nbconvert_exporter": "python",
   "pygments_lexer": "ipython3",
   "version": "3.9.13"
  }
 },
 "nbformat": 4,
 "nbformat_minor": 5
}
