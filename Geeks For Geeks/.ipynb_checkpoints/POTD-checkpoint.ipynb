{
 "cells": [
  {
   "cell_type": "markdown",
   "id": "f60a2f21",
   "metadata": {},
   "source": [
    "## Date : 27-02-24"
   ]
  },
  {
   "cell_type": "markdown",
   "id": "a5a0dd03",
   "metadata": {},
   "source": [
    "---\n",
    "## Play With OR\n",
    "\n",
    "\n",
    "You are given an array `arr[]` of length `n`, you have to re-construct the same array `arr[]` in-place. The `arr[i]` after reconstruction will become `arr[i] OR arr[i+1]`, where OR is bitwise or. If for some `i`, `i+1` does not exist, then do not change `arr[i]`.\n",
    "\n",
    "**Example 1:**\n",
    "\n",
    "Input:\n",
    "n = 5\n",
    "arr[] = {10, 11, 1, 2, 3}\n",
    "Output:\n",
    "11 11 3 3 3\n",
    "Explanation:\n",
    "At index 0, arr[0] or arr[1] = 11\n",
    "At index 1, arr[1] or arr[2] = 11\n",
    "At index 2, arr[2] or arr[3] = 3\n",
    "...\n",
    "At index 4, No element is left So, it will remain as it is.\n",
    "New Array will be {11, 11, 3, 3, 3}.\n",
    "\n",
    "**Example 2:**\n",
    "\n",
    "Input:\n",
    "n = 4\n",
    "arr[] = {5, 9, 2, 6} \n",
    "Output:\n",
    "13 11 6 6\n",
    "Explanation:\n",
    "At index 0, arr[0] or arr[1] = 13.\n",
    "At index 1, arr[1] or arr[2] = 11.\n",
    "At index 2, arr[2] or arr[3] = 6.\n",
    "At index 3, No element is left So, it will remain as it is.\n",
    "New Array will be {13, 11, 6, 6}.\n",
    "\n",
    "**Your Task:**\n",
    "You are required to implement the function `game_with_number()`, which takes an array `arr`, representing values at each index, and the size of the array `n`. The function should modify the elements of the same array `arr[]` in-place by replacing them with the values obtained by performing the bitwise OR operation on consecutive elements.\n",
    "\n",
    "**Expected Time Complexity:** O(n).\n",
    "**Expected Auxiliary Space:** O(1).\n",
    "\n",
    "**Constraints:**\n",
    "- 1 ≤ n ≤ 10^5\n",
    "- 1 ≤ arr[i] ≤ 10^7\n",
    "\n",
    "---\n"
   ]
  },
  {
   "cell_type": "code",
   "execution_count": 1,
   "id": "c17b0caa",
   "metadata": {},
   "outputs": [
    {
     "name": "stdout",
     "output_type": "stream",
     "text": [
      "10 11 1 2 3\n",
      "11 11 3 3 3\n"
     ]
    }
   ],
   "source": [
    "class Solution:\n",
    "    def game_with_number (self, arr,  n) : \n",
    "        for i in range(n-1):\n",
    "            arr[i] |=arr[i+1]\n",
    "        return arr\n",
    "arr = list(map(int, input().strip().split()))\n",
    "n = len(arr)\n",
    "ob = Solution()\n",
    "res = ob.game_with_number(arr, n)\n",
    "print(*res)\n"
   ]
  },
  {
   "cell_type": "markdown",
   "id": "c58632a4",
   "metadata": {},
   "source": [
    "## Date: 28-02-24"
   ]
  },
  {
   "cell_type": "markdown",
   "id": "f7deacd2",
   "metadata": {},
   "source": [
    "## Check if a number is divisible by 8\n",
    "\n",
    "Given a string representation of a decimal number s, check whether it is divisible by 8.\n",
    "\n",
    "**Example 1:**\n",
    "\n",
    "**Input:**  \n",
    "s = \"16\"  \n",
    "**Output:**  \n",
    "1  \n",
    "**Explanation:**  \n",
    "The given number is divisible by 8, so the driver code prints 1 as the output.\n",
    "\n",
    "**Example 2:**\n",
    "\n",
    "**Input:**  \n",
    "s = \"54141111648421214584416464555\"  \n",
    "**Output:**  \n",
    "-1  \n",
    "**Explanation:**  \n",
    "Given Number is not divisible by 8, so the driver code prints -1 as the output.\n",
    "\n",
    "**Your Task:**  \n",
    "You don't need to read input or print anything. Your task is to complete the function `DivisibleByEight()` which takes a string s as the input and returns 1 if the number is divisible by 8, else it returns -1.\n",
    "\n",
    "**Expected Time Complexity:** O(1).  \n",
    "**Expected Auxiliary Space:** O(1).\n",
    "\n",
    "**Constraints:**  \n",
    "- 1 <= |s| <= 10^6\n"
   ]
  },
  {
   "cell_type": "code",
   "execution_count": 2,
   "id": "2be2d580",
   "metadata": {},
   "outputs": [
    {
     "name": "stdout",
     "output_type": "stream",
     "text": [
      "2\n",
      "16\n",
      "1\n",
      "54141111648421214584416464555\n",
      "-1\n"
     ]
    }
   ],
   "source": [
    "#User function Template for python3\n",
    "\n",
    "class Solution:\n",
    "    def DivisibleByEight(self,s):\n",
    "        n=len(s)\n",
    "        if n<3:\n",
    "            s=s.zfill(3)\n",
    "            n=3\n",
    "        ltd=int(s[-3:])\n",
    "        if ltd%8==0:\n",
    "            return 1\n",
    "        else:\n",
    "            return -1\n",
    "\n",
    "\n",
    "#{ \n",
    " # Driver Code Starts\n",
    "#Initial Template for Python 3\n",
    "\n",
    "if __name__=='__main__':\n",
    "    t=int(input())\n",
    "    for _ in range(t):\n",
    "        S=input()\n",
    "        ob=Solution()\n",
    "        print(ob.DivisibleByEight(S))\n",
    "# } Driver Code Ends"
   ]
  },
  {
   "cell_type": "markdown",
   "id": "e7627b45",
   "metadata": {},
   "source": [
    "## Date: 02-03-24\n",
    "## First element to occur k times\n",
    "\n",
    "Given an array of n integers. Find the first element that occurs at least k times. If no such element exists in the array, then expect the answer to be -1.\n",
    "\n",
    "### Example 1:\n",
    "\n",
    "**Input:**  \n",
    "n = 7, k = 2  \n",
    "a[] = {1, 7, 4, 3, 4, 8, 7}  \n",
    "\n",
    "**Output:**  \n",
    "4  \n",
    "\n",
    "**Explanation:**  \n",
    "Both 7 and 4 occur 2 times. But 4 is first that occurs twice. As at index = 4, 4 has occurred twice whereas 7 appeared twice at index 6.\n",
    "\n",
    "### Example 2:\n",
    "\n",
    "**Input:**  \n",
    "n = 10, k = 3  \n",
    "a[] = {3, 1, 3, 4, 5, 1, 3, 3, 5, 4}  \n",
    "\n",
    "**Output:**  \n",
    "3  \n",
    "\n",
    "**Explanation:**  \n",
    "Here, 3 is the only number that appeared at least 3 times in the array.\n",
    "\n",
    "### Your Task:  \n",
    "You don't need to read input or print anything. Your task is to complete the function `firstElementKTime()` which takes the array a[], its size n, and an integer k as input arguments and returns the required answer. If the answer is not present in the array, return -1.\n",
    "\n",
    "**Expected Time Complexity:** O(n).  \n",
    "**Expected Auxiliary Space:** O(n).  \n",
    "\n",
    "**Constraints:**  \n",
    "1 <= n <= 10^4  \n",
    "1 <= k <= 100  \n",
    "0 <= a[i] <= 200\n"
   ]
  },
  {
   "cell_type": "code",
   "execution_count": 1,
   "id": "0a563c35",
   "metadata": {},
   "outputs": [
    {
     "name": "stdout",
     "output_type": "stream",
     "text": [
      "2\n",
      "7 2\n",
      "1 7 4 3 4 8 7\n",
      "4\n",
      "10 3\n",
      "3 1 3 4 5 1 3 3 5 4\n",
      "3\n"
     ]
    }
   ],
   "source": [
    "#User function Template for python3\n",
    "\n",
    "class Solution:\n",
    "    def firstElementKTime(self, n, k, a):\n",
    "        freq={}\n",
    "        for i in a:\n",
    "            freq[i]=freq.get(i,0)+1\n",
    "            if freq[i]==k:\n",
    "                return i\n",
    "        return -1\n",
    "        \n",
    "    \n",
    "\n",
    "\n",
    "\n",
    "#{ \n",
    " # Driver Code Starts\n",
    "#Initial Template for Python 3\n",
    "\n",
    "def main():\n",
    "\n",
    "    T = int(input())\n",
    "\n",
    "    while(T > 0):\n",
    "        sz = [int(x) for x in input().strip().split()]\n",
    "        n, k = sz[0], sz[1]\n",
    "        a = [int(x) for x in input().strip().split()]\n",
    "        ob = Solution()\n",
    "        print(ob.firstElementKTime(n, k, a))\n",
    "\n",
    "        T -= 1\n",
    "\n",
    "\n",
    "if __name__ == \"__main__\":\n",
    "    main()\n",
    "\n",
    "# } Driver Code Ends"
   ]
  }
 ],
 "metadata": {
  "kernelspec": {
   "display_name": "Python 3 (ipykernel)",
   "language": "python",
   "name": "python3"
  },
  "language_info": {
   "codemirror_mode": {
    "name": "ipython",
    "version": 3
   },
   "file_extension": ".py",
   "mimetype": "text/x-python",
   "name": "python",
   "nbconvert_exporter": "python",
   "pygments_lexer": "ipython3",
   "version": "3.9.13"
  }
 },
 "nbformat": 4,
 "nbformat_minor": 5
}
