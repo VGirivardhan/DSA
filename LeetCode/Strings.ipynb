{
 "cells": [
  {
   "cell_type": "markdown",
   "id": "bddce0bf",
   "metadata": {},
   "source": [
    "\n",
    "## Reverse Words in a String\n",
    "\n",
    "Given an input string `s`, reverse the order of the words.\n",
    "\n",
    "A word is defined as a sequence of non-space characters. The words in `s` will be separated by at least one space.\n",
    "\n",
    "Return a string of the words in reverse order concatenated by a single space.\n",
    "\n",
    "Note that `s` may contain leading or trailing spaces or multiple spaces between two words. The returned string should only have a single space separating the words. Do not include any extra spaces.\n",
    "\n",
    "### Example 1:\n",
    "\n",
    "**Input:**  \n",
    "```\n",
    "s = \"the sky is blue\"\n",
    "```\n",
    "\n",
    "**Output:**  \n",
    "```\n",
    "\"blue is sky the\"\n",
    "```\n",
    "\n",
    "### Example 2:\n",
    "\n",
    "**Input:**  \n",
    "```\n",
    "s = \"  hello world  \"\n",
    "```\n",
    "\n",
    "**Output:**  \n",
    "```\n",
    "\"world hello\"\n",
    "```\n",
    "\n",
    "**Explanation:**  \n",
    "Your reversed string should not contain leading or trailing spaces.\n",
    "\n",
    "### Example 3:\n",
    "\n",
    "**Input:**  \n",
    "```\n",
    "s = \"a good   example\"\n",
    "```\n",
    "\n",
    "**Output:**  \n",
    "```\n",
    "\"example good a\"\n",
    "```\n",
    "\n",
    "**Explanation:**  \n",
    "You need to reduce multiple spaces between two words to a single space in the reversed string.\n",
    "\n",
    "**Constraints:**\n",
    "\n",
    "- 1 <= s.length <= 104\n",
    "- s contains English letters (upper-case and lower-case), digits, and spaces ' '.\n",
    "- There is at least one word in s.\n"
   ]
  },
  {
   "cell_type": "code",
   "execution_count": 4,
   "id": "cd0474cb",
   "metadata": {},
   "outputs": [
    {
     "name": "stdout",
     "output_type": "stream",
     "text": [
      "Enter String:Hello     World this is giri\n",
      "giri is this World Hello\n"
     ]
    }
   ],
   "source": [
    "\n",
    "def reverse(s,b,n):\n",
    "    while b<n:\n",
    "        s[b],s[n]=s[n],s[b]\n",
    "        b+=1\n",
    "        n-=1\n",
    "def reverseWords(s):\n",
    "    words = s.split() \n",
    "    reversed_words = reversed(words)\n",
    "    return \" \".join(reversed_words) \n",
    "s=str(input(\"Enter String:\"))\n",
    "print(reverseWords(s))"
   ]
  },
  {
   "cell_type": "code",
   "execution_count": 9,
   "id": "5e61a0f1",
   "metadata": {},
   "outputs": [
    {
     "name": "stdout",
     "output_type": "stream",
     "text": [
      "Enter String:A Hello                   World\n",
      "World Hello A\n"
     ]
    }
   ],
   "source": [
    "def reverse(s, b, n):\n",
    "    while b < n:\n",
    "        s[b], s[n] = s[n], s[b]\n",
    "        b += 1\n",
    "        n -= 1\n",
    "\n",
    "def reverseWords(s):\n",
    "    s = s.strip()\n",
    "    s = list(s)\n",
    "    b, n = 0, len(s)\n",
    "    for e in range(n):\n",
    "        if s[e] == \" \":\n",
    "            reverse(s, b, e - 1)\n",
    "            b = e + 1\n",
    "            while b < len(s) and s[b] == \" \":\n",
    "                b += 1\n",
    "    reverse(s, b, e)\n",
    "    reverse(s, 0, len(s) - 1)\n",
    "    return \" \".join(filter(lambda x: x != \"\", \"\".join(s).split(\" \")))\n",
    "\n",
    "s =str(input(\"Enter String:\"))\n",
    "print(reverseWords(s))\n"
   ]
  },
  {
   "cell_type": "markdown",
   "id": "543e06da",
   "metadata": {},
   "source": [
    "---\n",
    "## String Shifts\n",
    "\n",
    "Given two strings `s` and `goal`, return true if and only if `s` can become `goal` after some number of shifts on `s`.\n",
    "\n",
    "A shift on `s` consists of moving the leftmost character of `s` to the rightmost position.\n",
    "\n",
    "For example, if `s` = \"abcde\", then it will be \"bcdea\" after one shift.\n",
    "\n",
    "### Example 1:\n",
    "\n",
    "**Input:**  \n",
    "```\n",
    "s = \"abcde\", goal = \"cdeab\"\n",
    "```\n",
    "\n",
    "**Output:**  \n",
    "```\n",
    "true\n",
    "```\n",
    "\n",
    "### Example 2:\n",
    "\n",
    "**Input:**  \n",
    "```\n",
    "s = \"abcde\", goal = \"abced\"\n",
    "```\n",
    "\n",
    "**Output:**  \n",
    "```\n",
    "false\n",
    "```\n",
    "\n",
    "**Constraints:**\n",
    "\n",
    "- 1 <= s.length, goal.length <= 100\n",
    "- `s` and `goal` consist of lowercase English letters.\n",
    "\n",
    "---"
   ]
  },
  {
   "cell_type": "code",
   "execution_count": null,
   "id": "e2729c73",
   "metadata": {},
   "outputs": [],
   "source": [
    "\n",
    "def rotateString(self, s, goal):\n",
    "    if len(s)!=len(goal):\n",
    "        return False\n",
    "    return goal in s+s\n",
    "s1=str(input(\"Enter String 1:\"))\n",
    "s2=str(input(\"Enter String 2:\"))\n",
    "print(arerotations(s1,s2))"
   ]
  }
 ],
 "metadata": {
  "kernelspec": {
   "display_name": "Python 3 (ipykernel)",
   "language": "python",
   "name": "python3"
  },
  "language_info": {
   "codemirror_mode": {
    "name": "ipython",
    "version": 3
   },
   "file_extension": ".py",
   "mimetype": "text/x-python",
   "name": "python",
   "nbconvert_exporter": "python",
   "pygments_lexer": "ipython3",
   "version": "3.9.13"
  }
 },
 "nbformat": 4,
 "nbformat_minor": 5
}
