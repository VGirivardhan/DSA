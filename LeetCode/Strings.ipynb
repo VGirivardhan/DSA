{
 "cells": [
  {
   "cell_type": "markdown",
   "id": "bddce0bf",
   "metadata": {},
   "source": [
    "\n",
    "## Reverse Words in a String\n",
    "\n",
    "Given an input string `s`, reverse the order of the words.\n",
    "\n",
    "A word is defined as a sequence of non-space characters. The words in `s` will be separated by at least one space.\n",
    "\n",
    "Return a string of the words in reverse order concatenated by a single space.\n",
    "\n",
    "Note that `s` may contain leading or trailing spaces or multiple spaces between two words. The returned string should only have a single space separating the words. Do not include any extra spaces.\n",
    "\n",
    "### Example 1:\n",
    "\n",
    "**Input:**  \n",
    "```\n",
    "s = \"the sky is blue\"\n",
    "```\n",
    "\n",
    "**Output:**  \n",
    "```\n",
    "\"blue is sky the\"\n",
    "```\n",
    "\n",
    "### Example 2:\n",
    "\n",
    "**Input:**  \n",
    "```\n",
    "s = \"  hello world  \"\n",
    "```\n",
    "\n",
    "**Output:**  \n",
    "```\n",
    "\"world hello\"\n",
    "```\n",
    "\n",
    "**Explanation:**  \n",
    "Your reversed string should not contain leading or trailing spaces.\n",
    "\n",
    "### Example 3:\n",
    "\n",
    "**Input:**  \n",
    "```\n",
    "s = \"a good   example\"\n",
    "```\n",
    "\n",
    "**Output:**  \n",
    "```\n",
    "\"example good a\"\n",
    "```\n",
    "\n",
    "**Explanation:**  \n",
    "You need to reduce multiple spaces between two words to a single space in the reversed string.\n",
    "\n",
    "**Constraints:**\n",
    "\n",
    "- 1 <= s.length <= 104\n",
    "- s contains English letters (upper-case and lower-case), digits, and spaces ' '.\n",
    "- There is at least one word in s.\n"
   ]
  },
  {
   "cell_type": "code",
   "execution_count": 4,
   "id": "a11ea1cc",
   "metadata": {},
   "outputs": [
    {
     "name": "stdout",
     "output_type": "stream",
     "text": [
      "Enter String:Hello     World this is giri\n",
      "giri is this World Hello\n"
     ]
    }
   ],
   "source": [
    "\n",
    "def reverse(s,b,n):\n",
    "    while b<n:\n",
    "        s[b],s[n]=s[n],s[b]\n",
    "        b+=1\n",
    "        n-=1\n",
    "def reverseWords(s):\n",
    "    words = s.split() \n",
    "    reversed_words = reversed(words)\n",
    "    return \" \".join(reversed_words) \n",
    "s=str(input(\"Enter String:\"))\n",
    "print(reverseWords(s))"
   ]
  }
 ],
 "metadata": {
  "kernelspec": {
   "display_name": "Python 3 (ipykernel)",
   "language": "python",
   "name": "python3"
  },
  "language_info": {
   "codemirror_mode": {
    "name": "ipython",
    "version": 3
   },
   "file_extension": ".py",
   "mimetype": "text/x-python",
   "name": "python",
   "nbconvert_exporter": "python",
   "pygments_lexer": "ipython3",
   "version": "3.9.13"
  }
 },
 "nbformat": 4,
 "nbformat_minor": 5
}
