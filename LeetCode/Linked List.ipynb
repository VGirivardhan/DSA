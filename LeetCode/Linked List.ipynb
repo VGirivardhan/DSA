{
 "cells": [
  {
   "cell_type": "markdown",
   "id": "36ae32a3",
   "metadata": {},
   "source": [
    "## Remove Linked List Elements\n",
    "\n",
    "Given the head of a linked list and an integer `val`, remove all the nodes of the linked list that have `Node.val == val`, and return the new head.\n",
    "\n",
    "**Example 1:**\n",
    "![](https://assets.leetcode.com/uploads/2021/03/06/removelinked-list.jpg)\n",
    "**Input:**  \n",
    "head = [1,2,6,3,4,5,6], val = 6  \n",
    "**Output:**  \n",
    "[1,2,3,4,5]  \n",
    "\n",
    "**Example 2:**\n",
    "\n",
    "**Input:**  \n",
    "head = [], val = 1  \n",
    "**Output:**  \n",
    "[]  \n",
    "\n",
    "**Example 3:**\n",
    "\n",
    "**Input:**  \n",
    "head = [7,7,7,7], val = 7  \n",
    "**Output:**  \n",
    "[]  \n",
    "\n",
    "**Constraints:**\n",
    "- The number of nodes in the list is in the range [0, 10^4].\n",
    "- 1 <= Node.val <= 50\n",
    "- 0 <= val <= 50\n"
   ]
  }
 ],
 "metadata": {
  "kernelspec": {
   "display_name": "Python 3 (ipykernel)",
   "language": "python",
   "name": "python3"
  },
  "language_info": {
   "codemirror_mode": {
    "name": "ipython",
    "version": 3
   },
   "file_extension": ".py",
   "mimetype": "text/x-python",
   "name": "python",
   "nbconvert_exporter": "python",
   "pygments_lexer": "ipython3",
   "version": "3.9.13"
  }
 },
 "nbformat": 4,
 "nbformat_minor": 5
}
