{
 "cells": [
  {
   "cell_type": "markdown",
   "id": "36ae32a3",
   "metadata": {},
   "source": [
    "## Remove Linked List Elements\n",
    "\n",
    "Given the head of a linked list and an integer `val`, remove all the nodes of the linked list that have `Node.val == val`, and return the new head.\n",
    "\n",
    "**Example 1:**\n",
    "![](https://assets.leetcode.com/uploads/2021/03/06/removelinked-list.jpg)\n",
    "**Input:**  \n",
    "head = [1,2,6,3,4,5,6], val = 6  \n",
    "**Output:**  \n",
    "[1,2,3,4,5]  \n",
    "\n",
    "**Example 2:**\n",
    "\n",
    "**Input:**  \n",
    "head = [], val = 1  \n",
    "**Output:**  \n",
    "[]  \n",
    "\n",
    "**Example 3:**\n",
    "\n",
    "**Input:**  \n",
    "head = [7,7,7,7], val = 7  \n",
    "**Output:**  \n",
    "[]  \n",
    "\n",
    "**Constraints:**\n",
    "- The number of nodes in the list is in the range [0, 10^4].\n",
    "- 1 <= Node.val <= 50\n",
    "- 0 <= val <= 50\n"
   ]
  },
  {
   "cell_type": "code",
   "execution_count": 1,
   "id": "12e74c47",
   "metadata": {},
   "outputs": [
    {
     "name": "stdout",
     "output_type": "stream",
     "text": [
      "Linked list after removing elements with value 6\n",
      "1 -> 2 -> 3 -> 4 -> 5 -> None\n"
     ]
    }
   ],
   "source": [
    "class ListNode(object):\n",
    "    def __init__(self, val=0, next=None):\n",
    "        self.val = val\n",
    "        self.next = next\n",
    "\n",
    "class Solution(object):\n",
    "    def removeElements(self, head, val):\n",
    "        while head and head.val == val:\n",
    "            head = head.next\n",
    "        if not head:\n",
    "            return None\n",
    "        curr = head\n",
    "        while curr.next:\n",
    "            if curr.next.val == val:\n",
    "                curr.next = curr.next.next\n",
    "            else:\n",
    "                curr = curr.next\n",
    "        \n",
    "        return head\n",
    "\n",
    "def printList(head):\n",
    "    curr = head\n",
    "    while curr:\n",
    "        print(curr.val, end=\" -> \")\n",
    "        curr = curr.next\n",
    "    print(\"None\")\n",
    "\n",
    "if __name__ == \"__main__\":\n",
    "    head = ListNode(1)\n",
    "    head.next = ListNode(2)\n",
    "    head.next.next = ListNode(6)\n",
    "    head.next.next.next = ListNode(3)\n",
    "    head.next.next.next.next = ListNode(4)\n",
    "    head.next.next.next.next.next = ListNode(5)\n",
    "    head.next.next.next.next.next.next = ListNode(6)\n",
    "    \n",
    "    val_to_remove = 6\n",
    "    \n",
    "    solution = Solution()\n",
    "    \n",
    "    modified_head = solution.removeElements(head, val_to_remove)\n",
    "    \n",
    "    print(\"Linked list after removing elements with value\", val_to_remove)\n",
    "    printList(modified_head)\n"
   ]
  }
 ],
 "metadata": {
  "kernelspec": {
   "display_name": "Python 3 (ipykernel)",
   "language": "python",
   "name": "python3"
  },
  "language_info": {
   "codemirror_mode": {
    "name": "ipython",
    "version": 3
   },
   "file_extension": ".py",
   "mimetype": "text/x-python",
   "name": "python",
   "nbconvert_exporter": "python",
   "pygments_lexer": "ipython3",
   "version": "3.9.13"
  }
 },
 "nbformat": 4,
 "nbformat_minor": 5
}
