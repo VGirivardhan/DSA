{
 "cells": [
  {
   "cell_type": "markdown",
   "id": "aafde0f2",
   "metadata": {},
   "source": [
    "## Sort an array of 0s, 1s and 2s\n",
    "### Dutch National Flag Algorithm Approach:\n",
    "\n",
    "The Dutch National Flag Algorithm is used to sort an array containing 0s, 1s, and 2s in linear time complexity O(n) and constant space complexity O(1). Here's a step-by-step explanation of the algorithm:\n",
    "\n",
    "1. **Initialization:**\n",
    "   - Initialize three pointers: `low` (points to the start of the array), `mid` (starts from the beginning), and `high` (points to the end of the array).\n",
    "\n",
    "2. **Loop:**\n",
    "   - Run a loop that continues until `mid` is less than or equal to `high`.\n",
    "\n",
    "3. **Check Mid Value:**\n",
    "   - Check the value of the element at the `mid` position in the array (`arr[mid]`).\n",
    "\n",
    "4. **Handle Cases:**\n",
    "   - If `arr[mid]` is equal to 0:\n",
    "     - Swap `arr[low]` and `arr[mid]`.\n",
    "     - Increment both `low` and `mid`.\n",
    "     - Now, the subarray from index 0 to `(low-1)` only contains 0.\n",
    "\n",
    "   - If `arr[mid]` is equal to 1:\n",
    "     - Just increment the `mid` pointer.\n",
    "     - Now, the index `(mid-1)` will point to 1 as it should according to the rules.\n",
    "\n",
    "   - If `arr[mid]` is equal to 2:\n",
    "     - Swap `arr[mid]` and `arr[high]`.\n",
    "     - Decrement `high`.\n",
    "     - Now, the subarray from index `(high+1)` to `(n-1)` only contains 2.\n",
    "\n",
    "5. **Iteration:**\n",
    "   - In this step, we will do nothing to the `mid` pointer as even after swapping, the subarray from `mid` to `high` (after decrementing `high`) might be unsorted. So, we will check the value of `mid` again in the next iteration.\n",
    "\n",
    "6. **Completion:**\n",
    "   - After the loop, the array should be sorted with all 0s appearing before 1s and all 1s appearing before 2s.\n",
    "\n",
    "This algorithm efficiently sorts the array with a single pass through the array, making it highly efficient for sorting arrays with limited distinct values."
   ]
  },
  {
   "cell_type": "markdown",
   "id": "40d04205",
   "metadata": {},
   "source": [
    "\n",
    "#### Problem Statement: Given an array consisting of only 0s, 1s, and 2s. Write a program to in-place sort the array without using inbuilt sort functions. ( Expected: Single pass-O(N) and constant space)"
   ]
  },
  {
   "cell_type": "code",
   "execution_count": 1,
   "id": "73e5c399",
   "metadata": {},
   "outputs": [
    {
     "name": "stdout",
     "output_type": "stream",
     "text": [
      "After sorting:\n",
      "0 0 1 1 2 2 \n"
     ]
    }
   ],
   "source": [
    "# Dutch National Flag Algorithm\n",
    "def sortArray(arr):\n",
    "    low = 0\n",
    "    mid = 0\n",
    "    high = len(arr) - 1\n",
    "\n",
    "    while mid <= high:\n",
    "        if arr[mid] == 0:\n",
    "            arr[low], arr[mid] = arr[mid], arr[low]\n",
    "            low += 1\n",
    "            mid += 1\n",
    "        elif arr[mid] == 1:\n",
    "            mid += 1\n",
    "        else:\n",
    "            arr[mid], arr[high] = arr[high], arr[mid]\n",
    "            high -= 1\n",
    "\n",
    "n = 6\n",
    "arr = [0, 2, 1, 2, 0, 1]\n",
    "sortArray(arr)\n",
    "print(\"After sorting:\")\n",
    "for num in arr:\n",
    "    print(num, end=\" \")\n",
    "print()\n"
   ]
  },
  {
   "cell_type": "markdown",
   "id": "cf1acecf",
   "metadata": {},
   "source": [
    "### Moore's Voting Algorithm Approach\n",
    "\n",
    "Here's a step-by-step explanation of Moore's Voting Algorithm:\n",
    "\n",
    "1. **Initialize Variables:**\n",
    "   - Initialize two variables: `Count` to track the count of the current element and `Element` to store the element for which we are counting.\n",
    "\n",
    "2. **Traverse the Array:**\n",
    "   - Traverse through the given array.\n",
    "\n",
    "3. **Update Count and Element:**\n",
    "   - If `Count` is 0, store the current element of the array as `Element`.\n",
    "   - If the current element is the same as `Element`, increase `Count` by 1.\n",
    "   - If the current element is different from `Element`, decrease `Count` by 1.\n",
    "\n",
    "4. **Result:**\n",
    "   - The integer stored in `Element` after traversing the array should be the majority element, which appears more than ⌊ n/2 ⌋ times in the array (where n is the size of the array).\n",
    "\n",
    "This algorithm efficiently finds the majority element in linear time complexity O(n) and constant space complexity O(1)."
   ]
  },
  {
   "cell_type": "code",
   "execution_count": 3,
   "id": "221937ad",
   "metadata": {},
   "outputs": [
    {
     "name": "stdout",
     "output_type": "stream",
     "text": [
      "The majority element is: 1\n"
     ]
    }
   ],
   "source": [
    "\n",
    "\n",
    "\n",
    "def majorityElement(arr):\n",
    "    # Size of the given array\n",
    "    n = len(arr)\n",
    "    cnt = 0  # Count\n",
    "    el = None  # Element\n",
    "\n",
    "    # Applying the algorithm\n",
    "    for i in range(n):\n",
    "        if cnt == 0:\n",
    "            cnt = 1\n",
    "            el = arr[i]\n",
    "        elif el == arr[i]:\n",
    "            cnt += 1\n",
    "        else:\n",
    "            cnt -= 1\n",
    "\n",
    "    # Checking if the stored element is the majority element\n",
    "    cnt1 = 0\n",
    "    for i in range(n):\n",
    "        if arr[i] == el:\n",
    "            cnt1 += 1\n",
    "\n",
    "    if cnt1 > (n / 2):\n",
    "        return el\n",
    "    return -1\n",
    "\n",
    "\n",
    "arr = [2,1, 1, 1, 1, 2, 2]\n",
    "ans = majorityElement(arr)\n",
    "print(\"The majority element is:\", ans)\n"
   ]
  }
 ],
 "metadata": {
  "kernelspec": {
   "display_name": "Python 3 (ipykernel)",
   "language": "python",
   "name": "python3"
  },
  "language_info": {
   "codemirror_mode": {
    "name": "ipython",
    "version": 3
   },
   "file_extension": ".py",
   "mimetype": "text/x-python",
   "name": "python",
   "nbconvert_exporter": "python",
   "pygments_lexer": "ipython3",
   "version": "3.9.13"
  }
 },
 "nbformat": 4,
 "nbformat_minor": 5
}
