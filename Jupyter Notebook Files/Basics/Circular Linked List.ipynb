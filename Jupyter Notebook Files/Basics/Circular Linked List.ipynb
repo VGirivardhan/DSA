{
 "cells": [
  {
   "cell_type": "markdown",
   "id": "e1798215",
   "metadata": {},
   "source": [
    "# Circular Linked List"
   ]
  },
  {
   "cell_type": "markdown",
   "id": "96c5965d",
   "metadata": {},
   "source": [
    "## Advantages and Disadvantages of Circular Linked List\n",
    "\n",
    "A Linked List is a popular data structure used to store elements. It is a linear data structure consisting of nodes with a pointer to store the address of the next node and data, which is the value of that node. A Circular Linked List is a type of linked list that is circular in nature. In a circular linked list, every node has a successor. In this data structure, every node points to the next node, and the last node of the linked list points to the first node, making it circular in nature. It is essential to know that circular linked lists have no end, and we need to be careful while traversing the linked list.\n",
    "\n",
    "\n",
    "![](https://media.geeksforgeeks.org/wp-content/uploads/CircularLinkeList.png)\n",
    "\n",
    "### Advantages of Circular Linked Lists:\n",
    "\n",
    "1. It is possible to traverse from the last node back to the first, i.e., the head node.\n",
    "2. The starting node does not matter as we can traverse each and every node despite whatever node we keep as the starting node.\n",
    "3. The previous node can be easily identified.\n",
    "4. There is no need for a NULL function to code. The circular list never identifies a NULL identifier unless it is fully assigned.\n",
    "5. Circular linked lists are beneficial for end operations as start and finish coincide.\n",
    "6. Algorithms such as Round Robin setup can effectively complete online queues without having to meet NULL suspension or reference references.\n",
    "\n",
    "### Disadvantages of Circular Linked Lists:\n",
    "\n",
    "1. If the circular linked list is not handled properly, it can lead to an infinite loop as it is circular in nature.\n",
    "2. In comparison with singly-linked lists, doubly linked lists are more complex in nature.\n",
    "3. Direct accessing of elements is not possible.\n",
    "4. It is generally a complex task to reverse a circular linked list.\n"
   ]
  },
  {
   "cell_type": "markdown",
   "id": "56c70889",
   "metadata": {},
   "source": [
    "\n",
    "## Circular Linked List Traversal\n",
    "\n",
    "To traverse a circular linked list, we need to iterate over all the elements in the list. If the circular linked list contains more than one element, we have to traverse through each element.\n",
    "\n",
    "For example:\n",
    "\n",
    "![](https://media.geeksforgeeks.org/wp-content/uploads/CircularLinkeList.png)\n",
    "\n",
    "```\n",
    "Output:\n",
    "\n",
    "2 5 7 8 10\n",
    "```\n",
    "\n",
    "For a single element circular linked list:\n",
    "\n",
    "![](https://media.geeksforgeeks.org/wp-content/uploads/CircularSinglyLinkedList3.png)\n",
    "\n",
    "```\n",
    "Output:\n",
    "\n",
    "5\n",
    "```"
   ]
  },
  {
   "cell_type": "code",
   "execution_count": 6,
   "id": "2b263dd5",
   "metadata": {},
   "outputs": [
    {
     "name": "stdout",
     "output_type": "stream",
     "text": [
      "10 20 30 40 "
     ]
    }
   ],
   "source": [
    "class Node:\n",
    "    def __init__(self,key):\n",
    "        self.key=key\n",
    "        self.next=None\n",
    "\n",
    "def printList(head):\n",
    "    if head==None:\n",
    "        return\n",
    "    print(head.key,end=\" \")\n",
    "    curr=head.next\n",
    "    while curr!=head:\n",
    "        print(curr.key,end=\" \")\n",
    "        curr=curr.next        \n",
    "        \n",
    "head=Node(10)\n",
    "head.next=Node(20)\n",
    "head.next.next=Node(30)\n",
    "head.next.next.next=Node(40)\n",
    "head.next.next.next.next=head\n",
    "printList(head)"
   ]
  },
  {
   "cell_type": "markdown",
   "id": "a7b5ada2",
   "metadata": {},
   "source": [
    "## Insert at the Beginning of Circular Linked List\n",
    "\n",
    "To insert a node at the beginning of the list, follow these steps:\n",
    "\n",
    "1. Create a node, say T\n",
    "2. Make T -> next = last -> next\n",
    "3. last -> next = T\n",
    "\n",
    "![](https://media.geeksforgeeks.org/wp-content/uploads/CircularSinglyLinkedlist-4.png)\n",
    "\n",
    "After insertion:\n",
    "\n",
    "![](https://media.geeksforgeeks.org/wp-content/uploads/CircularSinglLinkedList5.png)\n"
   ]
  },
  {
   "cell_type": "code",
   "execution_count": 7,
   "id": "51fe9dbc",
   "metadata": {},
   "outputs": [
    {
     "name": "stdout",
     "output_type": "stream",
     "text": [
      "50 10 20 30 40 "
     ]
    }
   ],
   "source": [
    "# Method 1: O(n)\n",
    "class Node:\n",
    "    def __init__(self,key):\n",
    "        self.key=key\n",
    "        self.next=None\n",
    "        \n",
    "def insertatBeg(head,key):\n",
    "    temp=Node(key)\n",
    "    if head==None:\n",
    "        temp.next=temp\n",
    "        return temp\n",
    "    curr=head\n",
    "    while curr.next!=head:\n",
    "        curr=curr.next\n",
    "    curr.next=temp\n",
    "    temp.next=head\n",
    "    return temp\n",
    "    \n",
    "        \n",
    "\n",
    "def printList(head):\n",
    "    if head==None:\n",
    "        return\n",
    "    print(head.key,end=\" \")\n",
    "    curr=head.next\n",
    "    while curr!=head:\n",
    "        print(curr.key,end=\" \")\n",
    "        curr=curr.next        \n",
    "        \n",
    "head=Node(10)\n",
    "head.next=Node(20)\n",
    "head.next.next=Node(30)\n",
    "head.next.next.next=Node(40)\n",
    "head.next.next.next.next=head\n",
    "head=insertatBeg(head,50)\n",
    "printList(head)"
   ]
  },
  {
   "cell_type": "code",
   "execution_count": 13,
   "id": "050e480d",
   "metadata": {},
   "outputs": [
    {
     "name": "stdout",
     "output_type": "stream",
     "text": [
      "50 10 20 30 40 "
     ]
    }
   ],
   "source": [
    "# Method 2: O(1)\n",
    "class Node:\n",
    "    def __init__(self,key):\n",
    "        self.key=key\n",
    "        self.next=None\n",
    "        \n",
    "def insertatBeg(head,key):\n",
    "    temp=Node(key)\n",
    "    if head==None:\n",
    "        temp.next=temp\n",
    "        return temp\n",
    "    else:\n",
    "        temp.next=head.next\n",
    "        head.next=temp\n",
    "        head.key,temp.key=temp.key,head.key\n",
    "        return head\n",
    "        \n",
    "\n",
    "def printList(head):\n",
    "    if head==None:\n",
    "        return\n",
    "    print(head.key,end=\" \")\n",
    "    curr=head.next\n",
    "    while curr!=head:\n",
    "        print(curr.key,end=\" \")\n",
    "        curr=curr.next        \n",
    "        \n",
    "head=Node(10)\n",
    "head.next=Node(20)\n",
    "head.next.next=Node(30)\n",
    "head.next.next.next=Node(40)\n",
    "head.next.next.next.next=head\n",
    "head=insertatBeg(head,50)\n",
    "printList(head)"
   ]
  },
  {
   "cell_type": "markdown",
   "id": "7f2042b4",
   "metadata": {},
   "source": [
    "## Insert at the End of Circular Linked List\n",
    "\n",
    "### Insertion at the end of the list\n",
    "\n",
    "To insert a node at the end of the list, follow these steps:\n",
    "\n",
    "1. Create a node, say T\n",
    "2. Make T -> next = last -> next\n",
    "3. last -> next = T\n",
    "4. last = T\n",
    "\n",
    "![](https://media.geeksforgeeks.org/wp-content/uploads/CircularSinglyLinkedlist-6.png)\n",
    "\n",
    "\n",
    "After insertion:\n",
    "\n",
    "![](https://media.geeksforgeeks.org/wp-content/uploads/CircularSinglyLinkedlist-7.png)\n"
   ]
  },
  {
   "cell_type": "code",
   "execution_count": 14,
   "id": "d5a97149",
   "metadata": {},
   "outputs": [
    {
     "name": "stdout",
     "output_type": "stream",
     "text": [
      "10 20 \n",
      "10 20 30 \n"
     ]
    }
   ],
   "source": [
    "class Node:\n",
    "    def __init__(self, data):\n",
    "        self.data = data\n",
    "        self.next = None\n",
    "\n",
    "def insertEnd(head, x):\n",
    "    temp = Node(x)\n",
    "    if head == None:\n",
    "        temp.next = temp\n",
    "        return temp\n",
    "    else:\n",
    "        curr = head\n",
    "        while curr.next != head:\n",
    "            curr = curr.next\n",
    "        curr.next = temp\n",
    "        temp.next = head\n",
    "        return head\n",
    "\n",
    "def printCircular(head):\n",
    "    if head == None:\n",
    "        return\n",
    "    print(head.data, end=\" \")\n",
    "    curr = head.next\n",
    "    while curr != head:\n",
    "        print(curr.data, end=\" \")\n",
    "        curr = curr.next\n",
    "    print()\n",
    "\n",
    "head = Node(10)\n",
    "head.next = Node(20)\n",
    "head.next.next = head\n",
    "printCircular(head)\n",
    "head = insertEnd(head, 30)\n",
    "printCircular(head)\n"
   ]
  },
  {
   "cell_type": "code",
   "execution_count": 15,
   "id": "e485d4f3",
   "metadata": {},
   "outputs": [
    {
     "name": "stdout",
     "output_type": "stream",
     "text": [
      "10 20 \n",
      "10 20 30 \n"
     ]
    }
   ],
   "source": [
    "class Node:\n",
    "    def __init__(self, data):\n",
    "        self.data = data\n",
    "        self.next = None\n",
    "\n",
    "def insertEnd(head, x):\n",
    "    temp = Node(x)\n",
    "    if head == None:\n",
    "        temp.next = temp\n",
    "        return temp\n",
    "    else:\n",
    "        temp.next=head.next\n",
    "        head.next=temp\n",
    "        head.data,temp.data=temp.data,head.data\n",
    "        return temp\n",
    "\n",
    "def printCircular(head):\n",
    "    if head == None:\n",
    "        return\n",
    "    print(head.data, end=\" \")\n",
    "    curr = head.next\n",
    "    while curr != head:\n",
    "        print(curr.data, end=\" \")\n",
    "        curr = curr.next\n",
    "    print()\n",
    "\n",
    "head = Node(10)\n",
    "head.next = Node(20)\n",
    "head.next.next = head\n",
    "printCircular(head)\n",
    "head = insertEnd(head, 30)\n",
    "printCircular(head)\n"
   ]
  }
 ],
 "metadata": {
  "kernelspec": {
   "display_name": "Python 3 (ipykernel)",
   "language": "python",
   "name": "python3"
  },
  "language_info": {
   "codemirror_mode": {
    "name": "ipython",
    "version": 3
   },
   "file_extension": ".py",
   "mimetype": "text/x-python",
   "name": "python",
   "nbconvert_exporter": "python",
   "pygments_lexer": "ipython3",
   "version": "3.9.13"
  }
 },
 "nbformat": 4,
 "nbformat_minor": 5
}
