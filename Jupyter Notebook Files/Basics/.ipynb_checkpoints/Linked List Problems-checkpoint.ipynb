{
 "cells": [
  {
   "cell_type": "markdown",
   "id": "9bdbee06",
   "metadata": {},
   "source": [
    "## 1.Display Linked List\n",
    "\n",
    "**Given a singly linked list of integers. The task is to display the linked list.**\n",
    "\n",
    "**Example 1:**\n",
    "\n",
    "**Input:**  \n",
    "LinkedList: 1->2->3->4->5  \n",
    "**Output:**  \n",
    "1 2 3 4 5  \n",
    "\n",
    "**Constraints:**\n",
    "- 1 <= Number of nodes <= 100\n",
    "- 0 <= value of nodes <= 103\n",
    "\n",
    "**Your Task:**  \n",
    "Your task is to complete the given function `displayList()`, which takes head reference as an argument and returns the linked list as an array.\n",
    "\n",
    "**Expected Time Complexity:** O(N).  \n",
    "**Expected Auxiliary Space:** O(1).\n"
   ]
  }
 ],
 "metadata": {
  "kernelspec": {
   "display_name": "Python 3 (ipykernel)",
   "language": "python",
   "name": "python3"
  },
  "language_info": {
   "codemirror_mode": {
    "name": "ipython",
    "version": 3
   },
   "file_extension": ".py",
   "mimetype": "text/x-python",
   "name": "python",
   "nbconvert_exporter": "python",
   "pygments_lexer": "ipython3",
   "version": "3.9.13"
  }
 },
 "nbformat": 4,
 "nbformat_minor": 5
}
