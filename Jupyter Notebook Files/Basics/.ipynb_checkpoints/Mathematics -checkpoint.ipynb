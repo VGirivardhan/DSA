{
 "cells": [
  {
   "cell_type": "markdown",
   "id": "893dd4a4",
   "metadata": {},
   "source": [
    "## Date (29-01-2024)"
   ]
  },
  {
   "cell_type": "markdown",
   "id": "c7a6dc56",
   "metadata": {},
   "source": [
    "Sum of N Natural Numbers "
   ]
  },
  {
   "cell_type": "code",
   "execution_count": 1,
   "id": "8e9cbfad",
   "metadata": {
    "scrolled": true
   },
   "outputs": [
    {
     "name": "stdout",
     "output_type": "stream",
     "text": [
      "Enter N value:3\n",
      "Sum is 6.0\n"
     ]
    }
   ],
   "source": [
    "n=int(input(\"Enter N value:\"))\n",
    "sum=((n*(n+1))/2)\n",
    "print(\"Sum is\",sum)"
   ]
  },
  {
   "cell_type": "markdown",
   "id": "a14cd133",
   "metadata": {},
   "source": [
    "Count Digits"
   ]
  },
  {
   "cell_type": "code",
   "execution_count": 2,
   "id": "26215829",
   "metadata": {},
   "outputs": [
    {
     "name": "stdout",
     "output_type": "stream",
     "text": [
      "Enter Number:333\n",
      "Count of Digits : 3\n"
     ]
    }
   ],
   "source": [
    "x=int(input(\"Enter Number:\"))\n",
    "c=0\n",
    "while(x>0):\n",
    "    x=x//10\n",
    "    c=c+1\n",
    "print(\"Count of Digits :\",c)"
   ]
  },
  {
   "cell_type": "code",
   "execution_count": 2,
   "id": "612ae17b",
   "metadata": {},
   "outputs": [
    {
     "name": "stdout",
     "output_type": "stream",
     "text": [
      "Enter Number:30\n",
      "Count of Digits: 2\n"
     ]
    }
   ],
   "source": [
    "import math\n",
    "\n",
    "x = int(input(\"Enter Number:\"))\n",
    "\n",
    "if x == 0:\n",
    "    c = 1  # Special case for the number 0\n",
    "else:\n",
    "    c = math.floor(math.log10(abs(x))) + 1\n",
    "\n",
    "print(\"Count of Digits:\", c)\n"
   ]
  },
  {
   "cell_type": "markdown",
   "id": "0ab6b461",
   "metadata": {},
   "source": [
    "Palindrome "
   ]
  },
  {
   "cell_type": "code",
   "execution_count": 3,
   "id": "906395a0",
   "metadata": {},
   "outputs": [
    {
     "name": "stdout",
     "output_type": "stream",
     "text": [
      "Enter Number:343\n",
      "True\n"
     ]
    }
   ],
   "source": [
    "def ispal(n):\n",
    "    temp=n\n",
    "    rev=0\n",
    "    while(temp!=0):\n",
    "        ld=temp%10\n",
    "        rev=rev*10+ld\n",
    "        temp=temp//10\n",
    "    return rev==n\n",
    "\n",
    "num=int(input(\"Enter Number:\"))\n",
    "print(ispal(num))"
   ]
  },
  {
   "cell_type": "markdown",
   "id": "867e98fe",
   "metadata": {},
   "source": [
    "Factorial of a Number"
   ]
  },
  {
   "cell_type": "code",
   "execution_count": 8,
   "id": "7859a5cb",
   "metadata": {},
   "outputs": [
    {
     "name": "stdout",
     "output_type": "stream",
     "text": [
      "Enter Number:1\n",
      "Factorial of 1 is 1\n"
     ]
    }
   ],
   "source": [
    "#Iterative Approach\n",
    "\n",
    "def fact(n):\n",
    "    res=1\n",
    "    for i in range(2,n+1):\n",
    "        res=res*i\n",
    "    return res\n",
    "num=int(input(\"Enter Number:\"))\n",
    "print(\"Factorial of {} is {}\".format(num,fact(num)))"
   ]
  },
  {
   "cell_type": "code",
   "execution_count": 15,
   "id": "c5378cfa",
   "metadata": {},
   "outputs": [
    {
     "name": "stdout",
     "output_type": "stream",
     "text": [
      "Enter Number:3\n",
      "Factorial of 3 is 6\n"
     ]
    }
   ],
   "source": [
    "# Recursive Approach\n",
    "def fact(n):\n",
    "    if n < 0:\n",
    "        return 0\n",
    "    elif n == 0 or n == 1:\n",
    "        return 1\n",
    "    else:\n",
    "        return n * fact(n - 1)\n",
    "\n",
    "num = int(input(\"Enter Number:\"))\n",
    "print(\"Factorial of {} is {}\".format(num, fact(num)))\n"
   ]
  },
  {
   "cell_type": "markdown",
   "id": "aef290ee",
   "metadata": {},
   "source": [
    "Trainling Zeros"
   ]
  },
  {
   "cell_type": "code",
   "execution_count": 3,
   "id": "5ebf71c1",
   "metadata": {},
   "outputs": [
    {
     "name": "stdout",
     "output_type": "stream",
     "text": [
      "Enter  Number:10\n"
     ]
    },
    {
     "data": {
      "text/plain": [
       "2"
      ]
     },
     "execution_count": 3,
     "metadata": {},
     "output_type": "execute_result"
    }
   ],
   "source": [
    "def findTrailingZeros(n):\n",
    "    c=0\n",
    "    i=5\n",
    "    while(n/i>=1):\n",
    "        c+=int(n/i)\n",
    "        i*=i\n",
    "    return c\n",
    "num=int(input(\"Enter  Number:\"))\n",
    "findTrailingZeros(num)"
   ]
  },
  {
   "cell_type": "markdown",
   "id": "3f8573af",
   "metadata": {},
   "source": [
    "GCD(Greatest Common Divisor) or HCF"
   ]
  },
  {
   "cell_type": "code",
   "execution_count": 17,
   "id": "e4f836c8",
   "metadata": {},
   "outputs": [
    {
     "name": "stdout",
     "output_type": "stream",
     "text": [
      "Enter First NUmber:15\n",
      "Enter Second Number:12\n",
      "GCD of 15 and 12 is 3\n"
     ]
    }
   ],
   "source": [
    "def gcd(a,b):\n",
    "    if b==0:\n",
    "        return a\n",
    "    return gcd(b,a%b)\n",
    "n1=int(input(\"Enter First NUmber:\"))\n",
    "n2=int(input(\"Enter Second Number:\"))\n",
    "print(\"GCD of {} and {} is {}\".format(n1,n2,gcd(n1,n2)))\n"
   ]
  },
  {
   "cell_type": "code",
   "execution_count": 4,
   "id": "56924bcf",
   "metadata": {},
   "outputs": [
    {
     "name": "stdout",
     "output_type": "stream",
     "text": [
      "The gcd of 60 and 48 is : 12\n"
     ]
    }
   ],
   "source": [
    "# Python code to demonstrate the working of gcd()\n",
    "# importing \"math\" for mathematical operations\n",
    "import math\n",
    "\n",
    "# prints 12\n",
    "print(\"The gcd of 60 and 48 is : \", end=\"\")\n",
    "print(math.gcd(60, 48))"
   ]
  },
  {
   "cell_type": "markdown",
   "id": "cd993041",
   "metadata": {},
   "source": [
    "LCM (Least Common Multiple) of Two Numbers"
   ]
  },
  {
   "cell_type": "code",
   "execution_count": 19,
   "id": "fcb08708",
   "metadata": {},
   "outputs": [
    {
     "name": "stdout",
     "output_type": "stream",
     "text": [
      "Enter First Number:4\n",
      "Enter Second  Number:6\n",
      "LCM of 4 and 6 is 12\n"
     ]
    }
   ],
   "source": [
    "def gcd(a,b):\n",
    "    if b==0:\n",
    "        return a\n",
    "    return gcd(b,a%b)\n",
    "def lcm(a,b):\n",
    "    return (a*b)//gcd(a,b)\n",
    "n1=int(input(\"Enter First Number:\"))\n",
    "n2=int(input(\"Enter Second  Number:\"))\n",
    "print(\"LCM of {} and {} is {}\".format(n1,n2,lcm(n1,n2)))"
   ]
  },
  {
   "cell_type": "markdown",
   "id": "7e7d9a99",
   "metadata": {},
   "source": [
    "Prime Number"
   ]
  },
  {
   "cell_type": "code",
   "execution_count": 4,
   "id": "0a4998fc",
   "metadata": {},
   "outputs": [
    {
     "name": "stdout",
     "output_type": "stream",
     "text": [
      "Enter Number:899\n",
      "False\n"
     ]
    }
   ],
   "source": [
    "def prime(n):\n",
    "    if n==1:\n",
    "        return False\n",
    "    i=2\n",
    "    while(i*i<=n):\n",
    "        if(n%i==0):\n",
    "            return False\n",
    "        i+=1\n",
    "    return True\n",
    "num=int(input(\"Enter Number:\"))\n",
    "print(prime(num))"
   ]
  },
  {
   "cell_type": "code",
   "execution_count": 13,
   "id": "2aa8a7e1",
   "metadata": {},
   "outputs": [
    {
     "name": "stdout",
     "output_type": "stream",
     "text": [
      "Enter Number:4\n",
      "False\n"
     ]
    }
   ],
   "source": [
    "def isPrime(x):\n",
    "    if x < 2:\n",
    "        return False\n",
    "    for i in range(2, int(x**0.5) + 1):\n",
    "        if x % i == 0:\n",
    "            return False\n",
    "    return True\n",
    "num=int(input(\"Enter Number:\"))\n",
    "print(isPrime(num))"
   ]
  },
  {
   "cell_type": "markdown",
   "id": "b794df75",
   "metadata": {},
   "source": [
    "Prime Factorization of a number"
   ]
  },
  {
   "cell_type": "code",
   "execution_count": 8,
   "id": "371d3ed7",
   "metadata": {},
   "outputs": [
    {
     "name": "stdout",
     "output_type": "stream",
     "text": [
      "Enter a Number:100\n",
      "2 2 5 5 "
     ]
    }
   ],
   "source": [
    "def isPrime(x):\n",
    "    if x==1:\n",
    "        return False\n",
    "    i=2\n",
    "    while(i*i<=x):\n",
    "        if(x%i==0):\n",
    "            return False\n",
    "        i+=1\n",
    "    return True\n",
    "def primeFactors(n):\n",
    "    for i in range(2,n+1):\n",
    "        if isPrime(i):\n",
    "            x=i\n",
    "            while(n%x==0):\n",
    "                print(i,end=\" \")\n",
    "                x*=i\n",
    "                \n",
    "num=int(input(\"Enter a Number:\"))\n",
    "primeFactors(num)"
   ]
  },
  {
   "cell_type": "code",
   "execution_count": 5,
   "id": "cb875a88",
   "metadata": {},
   "outputs": [
    {
     "name": "stdout",
     "output_type": "stream",
     "text": [
      "Enter a Number: 100\n",
      "2 2 5 5 "
     ]
    }
   ],
   "source": [
    "def isPrime(x):\n",
    "    if x == 1:\n",
    "        return False\n",
    "    i = 2\n",
    "    while i * i <= x:\n",
    "        if x % i == 0:\n",
    "            \n",
    "            return False\n",
    "        i += 1\n",
    "    return True\n",
    "\n",
    "def primeFactors(n):\n",
    "    for i in range(2, n + 1):\n",
    "        if isPrime(i):\n",
    "            while n % i == 0:\n",
    "                print(i, end=\" \")\n",
    "                n //= i  # Fix: Correctly update n by dividing it by i\n",
    "\n",
    "num = int(input(\"Enter a Number: \"))\n",
    "primeFactors(num)\n"
   ]
  },
  {
   "cell_type": "markdown",
   "id": "62388fbf",
   "metadata": {},
   "source": [
    "All divisors in Sorted Order"
   ]
  },
  {
   "cell_type": "code",
   "execution_count": 4,
   "id": "13652782",
   "metadata": {},
   "outputs": [
    {
     "name": "stdout",
     "output_type": "stream",
     "text": [
      "Enter Number:100\n",
      "[1, 2, 4, 5, 10, 20, 25, 50, 100]\n"
     ]
    }
   ],
   "source": [
    "def printDivisors(n):\n",
    "    divisors=set()\n",
    "    for i in range(1,n+1):\n",
    "        if(n%i==0):\n",
    "            divisors.add(i)\n",
    "    sort=sorted(divisors)\n",
    "    print(sort)\n",
    "\n",
    "num=int(input(\"Enter Number:\"))\n",
    "printDivisors(num)\n",
    "            "
   ]
  },
  {
   "cell_type": "code",
   "execution_count": 5,
   "id": "548e881c",
   "metadata": {},
   "outputs": [
    {
     "name": "stdout",
     "output_type": "stream",
     "text": [
      "Enter Number: 12\n",
      "1\n",
      "2\n",
      "3\n",
      "3\n",
      "4\n",
      "6\n",
      "12\n"
     ]
    }
   ],
   "source": [
    "def printDivisors(n):\n",
    "    i = 1 \n",
    "    while i * i < n:\n",
    "        if n % i == 0:\n",
    "            print(i)\n",
    "        i += 1 \n",
    ";    \n",
    "    while i >= 1:\n",
    "        if n % i == 0 and i != n // i:\n",
    "            print(int(n / i))\n",
    "        i -= 1\n",
    "\n",
    "num = int(input(\"Enter Number: \"))\n",
    "printDivisors(num)\n"
   ]
  },
  {
   "cell_type": "markdown",
   "id": "3c187ffd",
   "metadata": {},
   "source": [
    "Prime Numbers Upto N:"
   ]
  },
  {
   "cell_type": "code",
   "execution_count": 15,
   "id": "e07062f1",
   "metadata": {},
   "outputs": [
    {
     "name": "stdout",
     "output_type": "stream",
     "text": [
      "Enter Number:20\n",
      "2 3 5 7 11 13 17 19 "
     ]
    }
   ],
   "source": [
    "def isPrime(num):\n",
    "    if num<2:\n",
    "        return False\n",
    "    for i in range(2,int(num**0.5)+1):\n",
    "        if num%i==0:\n",
    "            return False\n",
    "    return True\n",
    "def printPrime(n):\n",
    "    for i in range(2,n+1):\n",
    "        if isPrime(i):\n",
    "            print(i,end=\" \")\n",
    "            \n",
    "num=int(input(\"Enter Number:\"))\n",
    "printPrime(num)"
   ]
  },
  {
   "cell_type": "markdown",
   "id": "5c31172c",
   "metadata": {},
   "source": [
    "Computing power of Number"
   ]
  },
  {
   "cell_type": "code",
   "execution_count": 18,
   "id": "fd3515d4",
   "metadata": {},
   "outputs": [
    {
     "name": "stdout",
     "output_type": "stream",
     "text": [
      "Enter First Number:3\n",
      "Enter Second Number3\n",
      "27\n"
     ]
    }
   ],
   "source": [
    "def pow(a,b):\n",
    "    temp=1\n",
    "    for i in range(b):\n",
    "        temp*=a\n",
    "    return temp\n",
    "\n",
    "n1=int(input(\"Enter First Number:\"))\n",
    "n2=int(input(\"Enter Second Number\"))\n",
    "print(pow(n1,n2))        "
   ]
  },
  {
   "cell_type": "markdown",
   "id": "6ef916e3",
   "metadata": {},
   "source": [
    "Iterative Power (Binary Exponentiation)"
   ]
  },
  {
   "cell_type": "code",
   "execution_count": 6,
   "id": "cd2a9606",
   "metadata": {},
   "outputs": [
    {
     "name": "stdout",
     "output_type": "stream",
     "text": [
      "Enter Base Number:2\n",
      "Enter Power Number:3\n"
     ]
    },
    {
     "data": {
      "text/plain": [
       "8"
      ]
     },
     "execution_count": 6,
     "metadata": {},
     "output_type": "execute_result"
    }
   ],
   "source": [
    "def pow(x,y):\n",
    "    res=1\n",
    "    while(y>0):\n",
    "        if(y&1==1):\n",
    "            res*=x\n",
    "        y>>=1\n",
    "        x*=x\n",
    "    return res\n",
    "a=int(input(\"Enter Base Number:\"))\n",
    "b=int(input(\"Enter Power Number:\"))\n",
    "pow(a,b)\n",
    "        "
   ]
  },
  {
   "cell_type": "markdown",
   "id": "c4101e8f",
   "metadata": {},
   "source": [
    "Quiz"
   ]
  },
  {
   "cell_type": "code",
   "execution_count": 4,
   "id": "706d369f",
   "metadata": {},
   "outputs": [
    {
     "name": "stdout",
     "output_type": "stream",
     "text": [
      "Enter Number:63847\n",
      "Yes\n"
     ]
    }
   ],
   "source": [
    "n=int(input(\"Enter Number:\"))\n",
    "if((n%20) and (n%42) and (n%76))==7:\n",
    "    print(\"Yes\")\n",
    "else:\n",
    "    print(\"No\")"
   ]
  },
  {
   "cell_type": "markdown",
   "id": "d8a06eb0",
   "metadata": {},
   "source": [
    "Largest Five digit Number Exactly divisible by 39 is:"
   ]
  },
  {
   "cell_type": "code",
   "execution_count": 8,
   "id": "584257eb",
   "metadata": {},
   "outputs": [
    {
     "name": "stdout",
     "output_type": "stream",
     "text": [
      "Enter Number:99979\n",
      "No\n"
     ]
    }
   ],
   "source": [
    "n=int(input(\"Enter Number:\"))\n",
    "if(n%39==0):\n",
    "    print(\"Yes\")\n",
    "else:\n",
    "    print(\"No\")"
   ]
  },
  {
   "cell_type": "markdown",
   "id": "e23aa602",
   "metadata": {},
   "source": [
    "Not divisible by 3"
   ]
  },
  {
   "cell_type": "code",
   "execution_count": 12,
   "id": "bb8c5371",
   "metadata": {},
   "outputs": [
    {
     "name": "stdout",
     "output_type": "stream",
     "text": [
      "Enter Number:8952\n",
      "No\n"
     ]
    }
   ],
   "source": [
    "n=int(input(\"Enter Number:\"))\n",
    "if(n%3!=0):\n",
    "    print(\"Yes\")\n",
    "else:\n",
    "    print(\"No\")"
   ]
  },
  {
   "cell_type": "code",
   "execution_count": null,
   "id": "4b71b05e",
   "metadata": {},
   "outputs": [],
   "source": []
  },
  {
   "cell_type": "code",
   "execution_count": null,
   "id": "fd102ad6",
   "metadata": {},
   "outputs": [],
   "source": []
  }
 ],
 "metadata": {
  "kernelspec": {
   "display_name": "Python 3 (ipykernel)",
   "language": "python",
   "name": "python3"
  },
  "language_info": {
   "codemirror_mode": {
    "name": "ipython",
    "version": 3
   },
   "file_extension": ".py",
   "mimetype": "text/x-python",
   "name": "python",
   "nbconvert_exporter": "python",
   "pygments_lexer": "ipython3",
   "version": "3.9.13"
  }
 },
 "nbformat": 4,
 "nbformat_minor": 5
}
