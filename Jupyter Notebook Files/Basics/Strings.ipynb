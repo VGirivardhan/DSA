{
 "cells": [
  {
   "cell_type": "markdown",
   "id": "bef93001",
   "metadata": {},
   "source": [
    "---\n",
    "# Strings\n",
    "\n",
    "## Strings in Python\n",
    "\n",
    "In Python, Strings are arrays of bytes representing Unicode characters.\n",
    "\n",
    "### Example:\n",
    "\n",
    "- \"Geeksforgeeks\" or 'Geeksforgeeks'\n",
    "\n",
    "Python does not have a character data type; a single character is simply a string with a length of 1. Square brackets can be used to access elements of the string.\n",
    "\n",
    "### Order and character :\n",
    "\n",
    "```python\n",
    "print(ord(\"a\"))     # chr to ord\n",
    "print(ord(\"A\"))\n",
    "print(chr(97))      # ord to chr\n",
    "print(chr(65))\n",
    "```\n",
    "\n",
    "#### Output\n",
    "- 97\n",
    "- 65\n",
    "- a\n",
    "- A\n",
    "\n",
    "### Indexing In String\n",
    "```python\n",
    "s = \"geek\"\n",
    "print(s)\n",
    "print(s[0])\n",
    "print(s[-1])\n",
    "print(s[1])\n",
    "print(s[-2])\n",
    "```\n",
    "\n",
    "#### Output\n",
    "- geek\n",
    "- g\n",
    "- k\n",
    "- e\n",
    "- e\n",
    "\n",
    "### Strings are immutable\n",
    "\n",
    "```python\n",
    "s = \"geek\"\n",
    "s[0] = \"e\"  # error: item assignment not supported\n",
    "print(s)\n",
    "```\n",
    "\n",
    "### Multiline String\n",
    "```python\n",
    "s = \"\"\" Hi,\n",
    "This is python course.\n",
    "Hope you are enjoying it. \"\"\"\n",
    "print(s)\n",
    "```\n",
    "\n",
    "#### Output\n",
    "```\n",
    "Hi,\n",
    "This is python course.\n",
    "Hope you are enjoying it.\n",
    "```\n",
    "---"
   ]
  },
  {
   "cell_type": "markdown",
   "id": "c16c739f",
   "metadata": {},
   "source": [
    "\n",
    "## Length of String\n",
    "\n",
    "---\n",
    "\n",
    "### Problem Statement\n",
    "\n",
    "You are given a string `s`. You need to find the length of the string.\n",
    "\n",
    "#### Example 1:\n",
    "\n",
    "**Input:**  \n",
    "```\n",
    "s = Geeks\n",
    "```\n",
    "\n",
    "**Output:**  \n",
    "```\n",
    "5\n",
    "```\n",
    "\n",
    "#### Example 2:\n",
    "\n",
    "**Input:**  \n",
    "```\n",
    "s = Hello1234\n",
    "```\n",
    "\n",
    "**Output:**  \n",
    "```\n",
    "9\n",
    "```\n",
    "\n",
    "#### Your Task:\n",
    "You only need to complete the function `lengthString()` that takes `s` as a parameter and returns the length of the string. \n",
    "\n",
    "**Expected Time Complexity:** O(1).  \n",
    "**Expected Auxiliary Space:** O(1).\n",
    "\n",
    "**Constraints:**  \n",
    "1 <= | s | <= 100000\n",
    "\n",
    "---"
   ]
  },
  {
   "cell_type": "code",
   "execution_count": 1,
   "id": "079f60b7",
   "metadata": {},
   "outputs": [
    {
     "name": "stdout",
     "output_type": "stream",
     "text": [
      "Enter String:hello\n",
      "5\n"
     ]
    }
   ],
   "source": [
    "\n",
    "def lengthString(str):\n",
    "    return len(str)\n",
    "s=str(input(\"Enter String:\"))\n",
    "print(lengthString(s))"
   ]
  },
  {
   "cell_type": "markdown",
   "id": "0ba58b93",
   "metadata": {},
   "source": [
    "---\n",
    "## Escape Sequences and Raw Strings\n",
    "\n",
    "### Escape Sequences and Raw Strings:\n",
    "\n",
    "```python\n",
    "s = 'welcome to Geek's course'\n",
    "print(s)  # Syntax Error\n",
    "\n",
    "s = \"Hi \\nwelcome to the course\"\n",
    "print(s)\n",
    "```\n",
    "\n",
    "**Output:**\n",
    "```\n",
    "Hi \n",
    "welcome to the course\n",
    "```\n",
    "\n",
    "#### Explain\n",
    "\n",
    "```python\n",
    "s1 = \"A simple \\\\ example\"\n",
    "print(s1)\n",
    "s2 = \"Backslash at the end\\\\\"\n",
    "print(s2)\n",
    "s3 = \"\\\\n\"\n",
    "print(s3)\n",
    "s4 = \"\\\\t\"\n",
    "print(s4)\n",
    "```\n",
    "\n",
    "**Output:**\n",
    "```\n",
    "A simple \\ example\n",
    "Backslash at the end\\\n",
    "\\n\n",
    "\\t\n",
    "```\n",
    "\n",
    "#### Explain\n",
    "\n",
    "```python\n",
    "s1 = \"c:\\project\\name.py\"\n",
    "print(s1)\n",
    "\n",
    "s2 = r\"c:\\project\\name.py\"\n",
    "print(s2)\n",
    "```\n",
    "\n",
    "**Output:**\n",
    "```\n",
    "c:\\project\n",
    "ame.py\n",
    "c:\\project\\name.py\n",
    "```\n",
    "\n",
    "```\\``` is an escape character in Python strings. When you want to use a literal backslash in a string, you need to escape it with another backslash, like `\\\\`. However, by using raw strings (prefixing the string literal with `r`), Python treats backslashes as literal characters, making it easier to work with file paths and other strings that contain backslashes.\n",
    "\n",
    "---"
   ]
  },
  {
   "cell_type": "markdown",
   "id": "bd67fae8",
   "metadata": {},
   "source": [
    "## String Formatting\n",
    "\n",
    "String formatting is the process of infusing things in the string dynamically and presenting the string.\n",
    "\n",
    "There are four different ways to perform string formatting in Python:\n",
    "\n",
    "1. Formatting with `%` Operator.\n",
    "2. Formatting with `format()` string method.\n",
    "3. Formatting with string literals, called f-strings.\n",
    "4. Formatting with String Template Class.\n",
    "\n",
    "So we will see the entirety of the above-mentioned ways, and we will also focus on which string formatting strategy is the best.\n"
   ]
  },
  {
   "cell_type": "code",
   "execution_count": 4,
   "id": "1b0678a0",
   "metadata": {},
   "outputs": [
    {
     "name": "stdout",
     "output_type": "stream",
     "text": [
      "Welcome ABC to the Python Course\n",
      "\n",
      "welcome ABC to the Python Course\n",
      "\n",
      "welcome ABC to the Python Course\n",
      "\n"
     ]
    }
   ],
   "source": [
    "name = \"ABC\"\n",
    "\n",
    "course = \"Python Course\"\n",
    "\n",
    "s = \"Welcome %s to the %s\"%(name,course)\n",
    "print(s)\n",
    "print()\n",
    "###########\n",
    "# using format function\n",
    "\n",
    "s = \"welcome {0} to the {1}\".format(name,course)\n",
    "print(s)\n",
    "print()\n",
    "############################\n",
    "# using f-string\n",
    "\n",
    "s = f\"welcome {name} to the {course}\"\n",
    "print(s)\n",
    "print()"
   ]
  },
  {
   "cell_type": "code",
   "execution_count": 5,
   "id": "568b396b",
   "metadata": {},
   "outputs": [
    {
     "name": "stdout",
     "output_type": "stream",
     "text": [
      "sum of 10 and 20 is 30\n",
      "product of 10 and 20 is 200\n"
     ]
    }
   ],
   "source": [
    "a = 10\n",
    "b = 20\n",
    "\n",
    "print(f\"sum of {a} and {b} is {a + b}\")\n",
    "print(f\"product of {a} and {b} is {a * b}\")"
   ]
  },
  {
   "cell_type": "code",
   "execution_count": 6,
   "id": "37f281bf",
   "metadata": {},
   "outputs": [
    {
     "name": "stdout",
     "output_type": "stream",
     "text": [
      "lower case of ABC is abc\n",
      "upper case of abc is ABC\n"
     ]
    }
   ],
   "source": [
    "s1  = \"ABC\"\n",
    "s2 = \"abc\"\n",
    "\n",
    "print(f\"lower case of {s1} is {s1.lower()}\")\n",
    "print(f\"upper case of {s2} is {s2.upper()}\")"
   ]
  },
  {
   "cell_type": "markdown",
   "id": "75e48673",
   "metadata": {},
   "source": [
    "## String Comparison in Python\n",
    "\n",
    "### Method 1: Using Relational Operators\n",
    "\n",
    "The relational operators compare the Unicode values of the characters of the strings from the zeroth index till the end of the string. It then returns a boolean value according to the operator used.\n",
    "\n",
    "- `\"Geek\" == \"Geek\"` will return True as the Unicode of all the characters are equal.\n",
    "\n",
    "In case of `\"Geek\"` and `\"geek\"`, as the Unicode of `G` is `\\u0047` and of `g` is `\\u0067`:\n",
    "- `\"Geek\" < \"geek\"` will return True.\n",
    "- `\"Geek\" > \"geek\"` will return False.\n"
   ]
  },
  {
   "cell_type": "code",
   "execution_count": 7,
   "id": "1a316092",
   "metadata": {},
   "outputs": [
    {
     "name": "stdout",
     "output_type": "stream",
     "text": [
      "True\n",
      "True\n",
      "False\n",
      "False\n",
      "False\n",
      "True\n",
      "#############\n",
      "abcd > abc  True\n",
      "ZAB>ABC True\n",
      "abc>ABC True\n",
      "x>abcd True\n"
     ]
    }
   ],
   "source": [
    "s1 = \"geeksforgeeks\"\n",
    "\n",
    "s2 = \"ide\"\n",
    "\n",
    "print(s1<s2)\n",
    "print(s1<=s2)\n",
    "print(s1>s2)\n",
    "print(s1>=s2)\n",
    "print(s1==s2)\n",
    "print(s1 != s2)\n",
    "\n",
    "\n",
    "print(\"#############\")\n",
    "\n",
    "print(\"abcd > abc \",\"abcd\">\"abc\")\n",
    "print(\"ZAB>ABC\",\"ZAB\">\"ABC\")\n",
    "\n",
    "print(\"abc>ABC\",\"abc\">\"ABC\")\n",
    "\n",
    "print(\"x>abcd\",\"x\">\"abcd\")"
   ]
  },
  {
   "cell_type": "markdown",
   "id": "481d87f9",
   "metadata": {},
   "source": [
    "## String Operations Part (1)\n",
    "\n",
    "Python offers two membership operators to check or validate the membership of a value. It tests for membership in a sequence, such as strings, lists, or tuples.\n",
    "\n",
    "- `in` operator: The ‘in’ operator is used to check if a character/substring/element exists in a sequence or not. It evaluates to True if it finds the specified element in a sequence, otherwise False.\n",
    "\n",
    "- `not in` operator: Evaluates to true if it does not find a variable in the specified sequence and false otherwise.\n",
    "\n",
    "### For Example\n"
   ]
  },
  {
   "cell_type": "code",
   "execution_count": 8,
   "id": "5f2b68cc",
   "metadata": {},
   "outputs": [
    {
     "name": "stdout",
     "output_type": "stream",
     "text": [
      "True\n",
      "False\n"
     ]
    }
   ],
   "source": [
    "s1=\"geeksforgeeks\"\n",
    "s2=\"geeks\"\n",
    "print(s2 in s1)\n",
    "print(s2 not in s1)"
   ]
  },
  {
   "cell_type": "markdown",
   "id": "0b2e487b",
   "metadata": {},
   "source": [
    "## String Concatenation using + Operator\n",
    "\n",
    "It’s very easy to use the + operator for string concatenation. This operator can be used to add multiple strings together. However, the arguments must be strings. Here, the + operator combines the strings stored in `var1` and `var2` and stores the result in another variable `var3`.\n"
   ]
  },
  {
   "cell_type": "code",
   "execution_count": 9,
   "id": "3ae72694",
   "metadata": {},
   "outputs": [
    {
     "name": "stdout",
     "output_type": "stream",
     "text": [
      "geeksfor\n",
      "welcome to geeksfor\n"
     ]
    }
   ],
   "source": [
    "s1 = \"geeks\"\n",
    "s2 = \"for\"\n",
    "s3 = s1 + s2\n",
    "\n",
    "s4 = \"welcome to \" + s1 + s2\n",
    "\n",
    "print(s3)\n",
    "print(s4)"
   ]
  },
  {
   "cell_type": "code",
   "execution_count": 10,
   "id": "a4a8983b",
   "metadata": {},
   "outputs": [
    {
     "name": "stdout",
     "output_type": "stream",
     "text": [
      "0\n",
      "8\n",
      "8\n"
     ]
    }
   ],
   "source": [
    "s1 = \"geeksforgeeks\"\n",
    "s2 = \"geeks\"\n",
    "\n",
    "print(s1.index(s2))\n",
    "print(s1.rindex(s2))        # right index\n",
    "print(s1.index(s2,1,13))    # start and end index"
   ]
  },
  {
   "cell_type": "markdown",
   "id": "9e299c34",
   "metadata": {},
   "source": [
    "## String Operations Part (2)\n",
    "\n",
    "### What is `isupper()` in Python\n",
    "In Python, `isupper()` is a built-in method used for string handling. This method returns True if all characters in the string are uppercase; otherwise, it returns False.\n",
    "\n",
    "- It returns True for whitespaces, but if there is only whitespace in the string, then it returns False.\n",
    "- It does not take any arguments; therefore, it returns an error if a parameter is passed.\n",
    "- Digits and symbols return True, but if the string contains only digits and numbers, then it returns False.\n",
    "\n",
    "### What is `islower()` in Python\n",
    "In Python, `islower()` is a built-in method used for string handling. The `islower()` method returns True if all characters in the string are lowercase; otherwise, it returns False.\n",
    "\n",
    "- It returns True for whitespaces, but if there is only whitespace in the string, then it returns False.\n",
    "- It does not take any arguments; therefore, it returns an error if a parameter is passed.\n",
    "- Digits and symbols return True, but if the string contains only digits and numbers, then it returns False.\n"
   ]
  },
  {
   "cell_type": "code",
   "execution_count": 11,
   "id": "65ccc60c",
   "metadata": {},
   "outputs": [
    {
     "name": "stdout",
     "output_type": "stream",
     "text": [
      "5\n",
      "GEEKS\n",
      "geeks\n",
      "True\n",
      "True\n"
     ]
    }
   ],
   "source": [
    "s1 = \"geeks\"\n",
    "\n",
    "print(len(s1))\n",
    "\n",
    "s2 = s1.upper()\n",
    "\n",
    "print(s2)\n",
    "\n",
    "s3 = s2.lower()\n",
    "\n",
    "print(s3)\n",
    "\n",
    "print(s1.islower())\n",
    "\n",
    "print(s2.isupper())\n"
   ]
  },
  {
   "cell_type": "markdown",
   "id": "cbe1c45e",
   "metadata": {},
   "source": [
    "## String Operations with `startswith()` and `endswith()` Functions\n",
    "\n",
    "Python library provides a number of built-in methods, one such being `startswith()` and `endswith()` function which are used in string-related operations.\n",
    "\n",
    "### `startswith()` Function\n",
    "\n",
    "The `startswith()` function is used to check whether a given sentence starts with some particular string.\n",
    "- Start and end parameters are optional.\n",
    "- We may use them when we want only some particular substring of the original string to be considered for searching.\n",
    "\n",
    "### `endswith()` Function\n",
    "\n",
    "The `endswith()` function is used to check whether a given sentence ends with some particular string.\n",
    "- Start and end parameters are optional.\n",
    "- We may use them when we want only some particular substring of the original string to be considered for searching.\n"
   ]
  },
  {
   "cell_type": "code",
   "execution_count": 12,
   "id": "5616fd40",
   "metadata": {},
   "outputs": [
    {
     "name": "stdout",
     "output_type": "stream",
     "text": [
      "True\n",
      "True\n",
      "False\n",
      "True\n"
     ]
    }
   ],
   "source": [
    "s = \"GeeksforGeeks Python Course\"\n",
    "\n",
    "print(s.startswith(\"Geeks\"))\n",
    "\n",
    "print(s.endswith(\"Course\"))\n",
    "\n",
    "print(s.startswith(\"Geeks\", 1))     # start index\n",
    "\n",
    "print(s.startswith(\"Geeks\",8,len(s)))   # start index, last-index"
   ]
  },
  {
   "cell_type": "markdown",
   "id": "69a8da33",
   "metadata": {},
   "source": [
    "### Split and Join"
   ]
  },
  {
   "cell_type": "code",
   "execution_count": 19,
   "id": "f47c6ace",
   "metadata": {},
   "outputs": [
    {
     "name": "stdout",
     "output_type": "stream",
     "text": [
      "['geeks', 'for', 'geeks']\n",
      "['geeks', ' for', ' geeks']\n",
      "geeksforgeeks python course\n",
      "geeksforgeeks,python,course\n"
     ]
    }
   ],
   "source": [
    "s1 = \"geeks for geeks\"\n",
    "print(s1.split())\n",
    "s2 = \"geeks, for, geeks\"\n",
    "print(s2.split(\",\"))\n",
    "l = [\"geeksforgeeks\",\"python\",\"course\"]\n",
    "print(\" \".join(l))\n",
    "print(\",\".join(l))"
   ]
  },
  {
   "cell_type": "markdown",
   "id": "ea29d2e1",
   "metadata": {},
   "source": [
    "### Strip"
   ]
  },
  {
   "cell_type": "code",
   "execution_count": 26,
   "id": "8e2714dc",
   "metadata": {},
   "outputs": [
    {
     "name": "stdout",
     "output_type": "stream",
     "text": [
      "geeksforgeeks\n",
      "geeksforgeeks__\n",
      "__geeksforgeeks\n"
     ]
    }
   ],
   "source": [
    "s1 = \"__geeksforgeeks__\"\n",
    "print(s1.strip(\"_\"))\n",
    "print(s1.lstrip(\"_\"))\n",
    "print(s1.rstrip(\"_\"))"
   ]
  },
  {
   "cell_type": "markdown",
   "id": "8dc7fd72",
   "metadata": {},
   "source": [
    "### Find function in Python"
   ]
  },
  {
   "cell_type": "code",
   "execution_count": 29,
   "id": "4947e356",
   "metadata": {},
   "outputs": [
    {
     "name": "stdout",
     "output_type": "stream",
     "text": [
      "0\n",
      "-1\n",
      "10\n"
     ]
    }
   ],
   "source": [
    "s1 = \"geeks for geeks\"\n",
    "\n",
    "s2 = \"geeks\"\n",
    "\n",
    "print(s1.find(s2))\n",
    "print(s1.find(\"gfg\"))\n",
    "n=len(s1)\n",
    "print(s1.find(s2,1,n))"
   ]
  },
  {
   "cell_type": "markdown",
   "id": "13a7bffa",
   "metadata": {},
   "source": [
    "---\n",
    "## Count Distinct Vowels in String\n",
    "\n",
    "\n",
    "You are given a string `s`. You need to count the total distinct vowels in the string. The string `s` contains lowercase letters only.\n",
    "\n",
    "#### Example 1:\n",
    "\n",
    "**Input:**  \n",
    "```\n",
    "geeks\n",
    "```\n",
    "\n",
    "**Output:**  \n",
    "```\n",
    "1\n",
    "```\n",
    "\n",
    "#### Example 2:\n",
    "\n",
    "**Input:**  \n",
    "```\n",
    "world\n",
    "```\n",
    "\n",
    "**Output:**  \n",
    "```\n",
    "1\n",
    "```\n",
    "\n",
    "#### Your Task:\n",
    "You only need to complete the function `countVowels()` that takes `s` as a parameter and returns the count of distinct vowels in the string. \n",
    "\n",
    "**Expected Time Complexity:** O(|S|).  \n",
    "**Expected Auxiliary Space:** O(1).\n",
    "\n",
    "**Constraints:**  \n",
    "1 <= |s| <= 10000\n",
    "\n",
    "---"
   ]
  },
  {
   "cell_type": "code",
   "execution_count": 30,
   "id": "684990c9",
   "metadata": {},
   "outputs": [
    {
     "name": "stdout",
     "output_type": "stream",
     "text": [
      "1\n",
      "geeks\n",
      "1\n"
     ]
    }
   ],
   "source": [
    "#User function Template for python3\n",
    "\n",
    "class Solution:\n",
    "    def countVowels(self,s):\n",
    "        vowels=['a','e','i','o','u','A','E','I','O','U']\n",
    "        str_set=set(s)\n",
    "        count=0\n",
    "        for i in vowels:\n",
    "            if i in str_set:\n",
    "                count+=1\n",
    "        return count\n",
    "        \n",
    "\n",
    "\n",
    "#{ \n",
    " # Driver Code Starts\n",
    "#Initial Template for Python 3\n",
    "\n",
    "#contributed by RavinderSinghPB\n",
    "if __name__ == '__main__':\n",
    "    tcs=int(input())\n",
    "    \n",
    "    for _ in range(tcs):\n",
    "        s=input()\n",
    "        obj = Solution()\n",
    "        print(obj.countVowels(s))\n",
    "# } Driver Code Ends"
   ]
  },
  {
   "cell_type": "markdown",
   "id": "4e34d4a9",
   "metadata": {},
   "source": [
    "---\n",
    "## Vowels in String\n",
    "\n",
    "\n",
    "\n",
    "You are given a string `s`. You need to count the total vowels in the string. The string `s` contains lowercase letters only.\n",
    "\n",
    "#### Example 1:\n",
    "\n",
    "**Input:**  \n",
    "```\n",
    "s = geeks\n",
    "```\n",
    "\n",
    "**Output:**  \n",
    "```\n",
    "2\n",
    "```\n",
    "\n",
    "#### Example 2:\n",
    "\n",
    "**Input:**  \n",
    "```\n",
    "s = world\n",
    "```\n",
    "\n",
    "**Output:**  \n",
    "```\n",
    "1\n",
    "```\n",
    "\n",
    "#### Your Task:\n",
    "You only need to complete the function `countVowels()` that takes `s` as a parameter and returns the count of vowels in the string. \n",
    "\n",
    "**Expected Time Complexity:** O(|S|).  \n",
    "**Expected Auxiliary Space:** O(1).\n",
    "\n",
    "**Constraints:**  \n",
    "1 <= |s| <= 10000\n",
    "\n",
    "---"
   ]
  },
  {
   "cell_type": "code",
   "execution_count": 31,
   "id": "699b506a",
   "metadata": {},
   "outputs": [
    {
     "name": "stdout",
     "output_type": "stream",
     "text": [
      "1\n",
      "geeks\n",
      "2\n"
     ]
    }
   ],
   "source": [
    "#User function Template for python3\n",
    "\n",
    "class Solution:\n",
    "    def countVowels(self,s):\n",
    "        vowels=['a','e','i','o','u']\n",
    "        count=0\n",
    "        for i in s:\n",
    "            if i in vowels:\n",
    "                count+=1\n",
    "        return count\n",
    "            \n",
    "\n",
    "\n",
    "#{ \n",
    " # Driver Code Starts\n",
    "#Initial Template for Python 3\n",
    "\n",
    "#contributed by RavinderSinghPB\n",
    "if __name__ == '__main__':\n",
    "    tcs=int(input())\n",
    "    \n",
    "    for _ in range(tcs):\n",
    "        s=input()\n",
    "        obj = Solution()\n",
    "        print(obj.countVowels(s))\n",
    "# } Driver Code Ends"
   ]
  },
  {
   "cell_type": "markdown",
   "id": "83998c89",
   "metadata": {},
   "source": [
    "---\n",
    "## Lowercase to Uppercase\n",
    "\n",
    "\n",
    "\n",
    "You are given a string `s`. You need to convert the case of lowercase letters to uppercase letters.\n",
    "\n",
    "#### Example 1:\n",
    "\n",
    "**Input:**  \n",
    "```\n",
    "Geeks\n",
    "```\n",
    "\n",
    "**Output:**  \n",
    "```\n",
    "GEEKS\n",
    "```\n",
    "\n",
    "#### Example 2:\n",
    "\n",
    "**Input:**  \n",
    "```\n",
    "for\n",
    "```\n",
    "\n",
    "**Output:**  \n",
    "```\n",
    "FOR\n",
    "```\n",
    "\n",
    "#### Your Task:\n",
    "You only need to complete the function `caseConversion()` that takes `s` as a parameter and returns the converted string. \n",
    "\n",
    "**Expected Time Complexity:** O(|S|).  \n",
    "**Expected Auxiliary Space:** O(1).\n",
    "\n",
    "**Constraints:**  \n",
    "1 <= |s| <= 10000\n",
    "\n",
    "---"
   ]
  },
  {
   "cell_type": "code",
   "execution_count": 32,
   "id": "5dd9e2ed",
   "metadata": {},
   "outputs": [
    {
     "name": "stdout",
     "output_type": "stream",
     "text": [
      "1\n",
      "Geeks\n",
      "GEEKS\n"
     ]
    }
   ],
   "source": [
    "#User function Template for python3\n",
    "\n",
    "class Solution:\n",
    "    def caseConversion(self,s):\n",
    "        return s.upper()\n",
    "\n",
    "\n",
    "#{ \n",
    " # Driver Code Starts\n",
    "#Initial Template for Python 3\n",
    "\n",
    "if __name__ == \"__main__\":\n",
    "    t = int(input())\n",
    "    while(t>0):\n",
    "        s = input()\n",
    "        obj = Solution()\n",
    "        print(obj.caseConversion(s))\n",
    "        t = t-1\n",
    "\n",
    "# } Driver Code Ends"
   ]
  },
  {
   "cell_type": "markdown",
   "id": "26d7ab4b",
   "metadata": {},
   "source": [
    "\n",
    "## Uppercase to Lowercase\n",
    "\n",
    "You are given a string `s`. You need to convert the case of uppercase letters to lowercase letters.\n",
    "\n",
    "#### Example 1:\n",
    "\n",
    "**Input:**  \n",
    "```\n",
    "GeekS\n",
    "```\n",
    "\n",
    "**Output:**  \n",
    "```\n",
    "geeks\n",
    "```\n",
    "\n",
    "#### Example 2:\n",
    "\n",
    "**Input:**  \n",
    "```\n",
    "FOR\n",
    "```\n",
    "\n",
    "**Output:**  \n",
    "```\n",
    "for\n",
    "```\n",
    "\n",
    "#### Your Task:\n",
    "You only need to complete the function `caseConversion()` that takes `s` as a parameter and returns the converted string. \n",
    "\n",
    "**Expected Time Complexity:** O(|S|).  \n",
    "**Expected Auxiliary Space:** O(1).\n",
    "\n",
    "**Constraints:**  \n",
    "1 <= |s| <= 10000\n"
   ]
  },
  {
   "cell_type": "code",
   "execution_count": 34,
   "id": "303b3e85",
   "metadata": {},
   "outputs": [
    {
     "name": "stdout",
     "output_type": "stream",
     "text": [
      "1\n",
      "GEEKS\n",
      "geeks\n"
     ]
    }
   ],
   "source": [
    "#User function Template for python3\n",
    "\n",
    "\"\"\"\n",
    "input -\n",
    "@s :- string to be converted\n",
    "\n",
    "output - \n",
    "return converted string \n",
    "\"\"\"\n",
    "class Solution:\n",
    "    def caseConversion(self,s):\n",
    "        return s.lower()\n",
    "\n",
    "\n",
    "\n",
    "#{ \n",
    " # Driver Code Starts\n",
    "#Initial Template for Python 3\n",
    "\n",
    "if __name__ == \"__main__\":\n",
    "    t = int(input())\n",
    "    while(t>0):\n",
    "        s = input()\n",
    "        obj = Solution()\n",
    "        print(obj.caseConversion(s))\n",
    "        t = t-1\n",
    "\n",
    "# } Driver Code Ends"
   ]
  }
 ],
 "metadata": {
  "kernelspec": {
   "display_name": "Python 3 (ipykernel)",
   "language": "python",
   "name": "python3"
  },
  "language_info": {
   "codemirror_mode": {
    "name": "ipython",
    "version": 3
   },
   "file_extension": ".py",
   "mimetype": "text/x-python",
   "name": "python",
   "nbconvert_exporter": "python",
   "pygments_lexer": "ipython3",
   "version": "3.9.13"
  }
 },
 "nbformat": 4,
 "nbformat_minor": 5
}
