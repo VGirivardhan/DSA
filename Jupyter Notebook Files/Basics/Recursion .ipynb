{
 "cells": [
  {
   "cell_type": "markdown",
   "id": "7634a62e",
   "metadata": {},
   "source": [
    "### The Sequence\n",
    "\n",
    "You are given a number n. You need to recursively find the nth term of the series S that is given by:\n",
    "S(n) = n+ n*(S(n-1)) and S(0) = 1\n",
    "\n",
    "Example 1:\n",
    "\n",
    "Input:\n",
    "n = 2\n",
    "Output: 6\n",
    "Example 2:\n",
    "\n",
    "Input:\n",
    "n = 3\n",
    "Output: 21\n",
    "Your Task:\n",
    "\n",
    "Complete the function theSequence that takes n as paramenter and return the answer.\n",
    "\n",
    "Expected Time Complexity: O(N).\n",
    "Expected Auxiliary Space: O(N) (Recursive).\n",
    "\n",
    "Constraints:\n",
    "1 <= n <= 10"
   ]
  },
  {
   "cell_type": "code",
   "execution_count": 1,
   "id": "6d39458d",
   "metadata": {},
   "outputs": [
    {
     "name": "stdout",
     "output_type": "stream",
     "text": [
      "3\n",
      "3\n",
      "21\n",
      "4\n",
      "88\n",
      "2\n",
      "6\n"
     ]
    }
   ],
   "source": [
    "#User function Template for python3\n",
    "\n",
    "def theSequence(n):\n",
    "    if n==0:\n",
    "        return 1\n",
    "    return n+(n*theSequence(n-1))\n",
    "\n",
    "\n",
    "#{ \n",
    " # Driver Code Starts\n",
    "#Initial Template for Python 3\n",
    "\n",
    "#contributed by RavinderSinghPB\n",
    "if __name__=='__main__':\n",
    "    tcs=int(input())\n",
    "    \n",
    "    for _ in range(tcs):\n",
    "        n=int(input())\n",
    "        \n",
    "        print(theSequence(n))\n",
    "# } Driver Code Ends"
   ]
  },
  {
   "cell_type": "markdown",
   "id": "68fae61d",
   "metadata": {},
   "source": [
    "### Print 1 To N Without Loop\n",
    "\n",
    "Print numbers from 1 to N without the help of loops.\n",
    "\n",
    "Example 1:\n",
    "\n",
    "Input:\n",
    "N = 10\n",
    "Output: 1 2 3 4 5 6 7 8 9 10\n",
    "\n",
    "Example 2:\n",
    "\n",
    "Input:\n",
    "N = 5\n",
    "Output: 1 2 3 4 5\n",
    " \n",
    "\n",
    "Your Task:\n",
    "This is a function problem. You only need to complete the function printNos() that takes N as parameter and prints number from 1 to N recursively. Don't print newline, it will be added by the driver code.\n",
    "\n",
    "\n",
    "Expected Time Complexity: O(N).\n",
    "Expected Auxiliary Space: O(N) (Recursive).\n",
    "\n",
    "\n",
    "Constraints:\n",
    "1 <= N <= 1000"
   ]
  },
  {
   "cell_type": "code",
   "execution_count": 3,
   "id": "97ccb6a5",
   "metadata": {},
   "outputs": [
    {
     "name": "stdout",
     "output_type": "stream",
     "text": [
      "1\n",
      "10\n",
      "1 2 3 4 5 6 7 8 9 10 \n"
     ]
    }
   ],
   "source": [
    "#User function Template for python3\n",
    "\n",
    "class Solution:    \n",
    "    #Complete this function\n",
    "    def printNos(self,N):\n",
    "        if N==0:\n",
    "            return \n",
    "        self.printNos(N-1)\n",
    "        print(N,end=\" \")\n",
    "\n",
    "\n",
    "#{ \n",
    " # Driver Code Starts\n",
    "#Initial Template for Python 3\n",
    "\n",
    "import math\n",
    "\n",
    "\n",
    "\n",
    "\n",
    "def main():\n",
    "    \n",
    "    T=int(input())\n",
    "    \n",
    "    while(T>0):\n",
    "        \n",
    "        \n",
    "        N=int(input())\n",
    "        \n",
    "        ob=Solution()\n",
    "        \n",
    "        ob.printNos(N)\n",
    "        print()\n",
    "        T-=1\n",
    "\n",
    "if __name__==\"__main__\":\n",
    "    main()\n",
    "# } Driver Code Ends"
   ]
  },
  {
   "cell_type": "markdown",
   "id": "ea1ba5f0",
   "metadata": {},
   "source": [
    "### Print Array Elements Using Recursion\n",
    "\n",
    "You are given an array arr of size n. You need to print the array elements from start to end using given recursive function.\n",
    "\n",
    "\n",
    "Example 1:\n",
    "\n",
    "Input:\n",
    "n = 5\n",
    "arr[] = {1,2,3,4,5}\n",
    "Output: 1 2 3 4 5\n",
    "\n",
    "Example 2:\n",
    "\n",
    "Input:\n",
    "n = 4\n",
    "arr[] = {5,4,2,1}\n",
    "Output: 5 4 2 1\n",
    " \n",
    "\n",
    "Your Task:\n",
    "Complete the function printArrayRecursively() that takes array and size n as parameters and prints the array elements recursively. The newline is provided by driver code.\n",
    "\n",
    "\n",
    "Expected Time Complexity: O(N).\n",
    "Expected Auxiliary Space: O(N) (Recursive).\n",
    "\n",
    "\n",
    "Constraints:\n",
    "1 <= n <= 100"
   ]
  },
  {
   "cell_type": "code",
   "execution_count": 2,
   "id": "4a74c99e",
   "metadata": {},
   "outputs": [
    {
     "name": "stdout",
     "output_type": "stream",
     "text": [
      "1\n",
      "5\n",
      "1 2 3 4 5\n",
      "1 2 3 4 5 \n"
     ]
    }
   ],
   "source": [
    "#User function Template for python3\n",
    "\n",
    "class Solution:\n",
    "    def printArrayRecursively(self,arr,n):\n",
    "        if n==0:\n",
    "            return\n",
    "        self.printArrayRecursively(arr,n-1)\n",
    "        print(arr[n-1],end=\" \")\n",
    "        \n",
    "\n",
    "\n",
    "#{ \n",
    " # Driver Code Starts\n",
    "#Initial Template for Python 3\n",
    "\n",
    "if __name__ == '__main__':\n",
    "    tcs = int(input())\n",
    "    \n",
    "    for _ in range(tcs):\n",
    "        n=int(input())\n",
    "        arr=[int(x) for x in input().split()]\n",
    "        ob=Solution()\n",
    "        ob.printArrayRecursively(arr,n)\n",
    "        print()\n",
    "# } Driver Code Ends"
   ]
  },
  {
   "cell_type": "markdown",
   "id": "a1000edd",
   "metadata": {},
   "source": [
    "### Sum of Digits of a Number\n",
    "\n",
    "You are given a number n. You need to find the sum of digits of n.\n",
    "\n",
    "Example 1:\n",
    "\n",
    "Input:\n",
    "n = 1\n",
    "Output: 1\n",
    "Explanation: Sum of digit of 1 is 1.\n",
    "Example 2:\n",
    "\n",
    "Input:\n",
    "n = 99999\n",
    "Output: 45\n",
    "Explanation: Sum of digit of 99999 is 45.\n",
    "Your Task:\n",
    "You don't need to read input or print anything. Your task is to complete the function sumOfDigits() that takes n as parameter and returns the sum of digits of n.\n",
    "\n",
    "Expected Time Complexity: O(Logn).\n",
    "Expected Auxiliary Space: O(Logn) (Recursive).\n",
    "\n",
    "Constraints:\n",
    "1 <= n <= 107"
   ]
  },
  {
   "cell_type": "code",
   "execution_count": 1,
   "id": "e384184b",
   "metadata": {},
   "outputs": [
    {
     "name": "stdout",
     "output_type": "stream",
     "text": [
      "Enter Number:32\n",
      "5\n"
     ]
    }
   ],
   "source": [
    "# User function Template for python3\n",
    "\n",
    "def sumOfDigits(n):\n",
    "    if n < 10:\n",
    "        return n\n",
    "    return sumOfDigits(n // 10) + n % 10\n",
    "\n",
    "\n",
    "n=int(input(\"Enter Number:\"))\n",
    "print(sumOfDigits(n))\n"
   ]
  },
  {
   "cell_type": "markdown",
   "id": "49377a70",
   "metadata": {},
   "source": [
    "### Count Total Digits in a Number\n",
    "\n",
    "You are given a number n. You need to find the count of digits in n.\n",
    "\n",
    "Example 1:\n",
    "\n",
    "Input:\n",
    "n = 1\n",
    "Output: 1\n",
    "Explanation: Number of digit in 1 is 1.\n",
    "Example 2:\n",
    "\n",
    "Input:\n",
    "n  = 99999\n",
    "Output: 5\n",
    "Explanation:Number of digit in 99999 is 5\n",
    "Your Task:\n",
    "You don't need to read input or print anything. Your task is to complete the function countDigits() that takes n as parameter and returns the count of digits in n.\n",
    "\n",
    "Expected Time Complexity: O(Logn).\n",
    "Expected Auxiliary Space: O(Logn).\n",
    "\n",
    "Constraints:\n",
    "1 <= n <= 107"
   ]
  },
  {
   "cell_type": "code",
   "execution_count": 2,
   "id": "00cb200c",
   "metadata": {},
   "outputs": [
    {
     "name": "stdout",
     "output_type": "stream",
     "text": [
      "Enter Number:33\n",
      "2\n"
     ]
    }
   ],
   "source": [
    "# User function Template for python3\n",
    "\n",
    "def countDigits(n):\n",
    "    if n < 10:\n",
    "        return 1\n",
    "    return countDigits(n // 10) + 1\n",
    "\n",
    "\n",
    "n=int(input(\"Enter Number:\"))\n",
    "print(countDigits(n))\n"
   ]
  },
  {
   "cell_type": "markdown",
   "id": "3acbcf75",
   "metadata": {},
   "source": [
    "### Fibonacci Using Recursion\n",
    "\n",
    "You are given a number n. You need to find nth Fibonacci number.\n",
    "F(n)=F(n-1)+F(n-2); where F(1)=1 and F(2)=1\n",
    "\n",
    "Example 1:\n",
    "\n",
    "Input:\n",
    "n = 1\n",
    "Output: 1\n",
    "Explanation: The first fibonacci\n",
    " number is 1\n",
    "Example 2:\n",
    "\n",
    "Input:\n",
    "n = 20\n",
    "Output:6765\n",
    "Explanation: The 20th fibonacci \n",
    "number is 6765\n",
    "Your Task:\n",
    "You don't need to read input or print anything. You only need to complete the function fibonacci that takes n as parameters and returns the n-th fibonacci number.\n",
    "\n",
    "Expected Time Complexity: O(2n).\n",
    "Expected Auxiliary Space: O(N).\n",
    "\n",
    "Constraints:\n",
    "1 <= n <= 20"
   ]
  },
  {
   "cell_type": "code",
   "execution_count": 1,
   "id": "23b2cbed",
   "metadata": {},
   "outputs": [
    {
     "name": "stdout",
     "output_type": "stream",
     "text": [
      "Enter Number:3\n",
      "2\n"
     ]
    }
   ],
   "source": [
    "def fibonacci(n):\n",
    "        if n==0:\n",
    "            return 0\n",
    "        elif(n==1 or n==2):\n",
    "            return 1\n",
    "        else:\n",
    "            return fibonacci(n-1)+fibonacci(n-2)\n",
    "        \n",
    "n=int(input(\"Enter Number:\"))\n",
    "print(fibonacci(n))"
   ]
  },
  {
   "cell_type": "markdown",
   "id": "035d93a7",
   "metadata": {},
   "source": [
    "### Factorial Using Recursion\n",
    "\n",
    "You are given a number n. You need to recursively find the factorial of n and return it.\n",
    "\n",
    "Example 1:\n",
    "\n",
    "Input:\n",
    "n = 5\n",
    "Output: 120\n",
    "Example 2:\n",
    "\n",
    "Input:\n",
    "n = 0\n",
    "Output: 1\n",
    "Your Task:\n",
    "\n",
    "Complete the function factorial that takes n as parameter and returns the factorial. \n",
    "\n",
    "Expected Time Complexity: O(N).\n",
    "Expected Auxiliary Space: O(N) (Recursive).\n",
    "\n",
    "Constraints:\n",
    "0 <= n <= 10"
   ]
  },
  {
   "cell_type": "code",
   "execution_count": 3,
   "id": "7f7cc127",
   "metadata": {},
   "outputs": [
    {
     "name": "stdout",
     "output_type": "stream",
     "text": [
      "Enter Number:3\n",
      "6\n"
     ]
    }
   ],
   "source": [
    "def factorial(n):\n",
    "        if n==0 or n==1:\n",
    "            return 1\n",
    "        else:\n",
    "            return n*factorial(n-1)\n",
    "n=int(input(\"Enter Number:\"))\n",
    "print(factorial(n))"
   ]
  },
  {
   "cell_type": "markdown",
   "id": "926e9c25",
   "metadata": {},
   "source": [
    "### Find nCr\n",
    "\n",
    "You are given two numbers n and r. You need to find nCr.\n",
    "nCr = (n!) / ((n-r)!*(r!))\n",
    "In recursive way, we can write nCr as nCr = (n-1)C(r-1) + (n-1)Cr\n",
    "\n",
    "Example 1:\n",
    "\n",
    "Input:\n",
    "n = 5, r = 2\n",
    "Output: 10\n",
    "Example 2:\n",
    "\n",
    "Input:\n",
    "n = 4, r = 1\n",
    "Output: 4\n",
    "Your Task:\n",
    "You only need to complete the function nCr that takes n and r as parameters and returns the nCr.\n",
    "\n",
    "Expected Time Complexity: O(2N).\n",
    "Expected Auxiliary Space: O(2N) (Recursive).\n",
    "\n",
    "Constraints:\n",
    "1 <= r <= n <= 30"
   ]
  },
  {
   "cell_type": "code",
   "execution_count": 4,
   "id": "6e6ea2fb",
   "metadata": {},
   "outputs": [
    {
     "name": "stdout",
     "output_type": "stream",
     "text": [
      "1\n",
      "5 2\n",
      "10\n"
     ]
    }
   ],
   "source": [
    "#User function Template for python3\n",
    "\n",
    "def nCr(n,r):\n",
    "    return int((fact(n))/((fact(n-r))*(fact(r))))\n",
    "def fact(n):\n",
    "    if n==0 or n==1:\n",
    "        return 1\n",
    "    else:\n",
    "        return n*fact(n-1)\n",
    "    \n",
    "\n",
    "\n",
    "#{ \n",
    " # Driver Code Starts\n",
    "#Initial Template for Python 3\n",
    "\n",
    "#contributed by RavinderSinghPB\n",
    "if __name__ == '__main__':\n",
    "    tcs=int(input())\n",
    "    \n",
    "    for _ in range(tcs):\n",
    "        n,r=[int(x) for x in input().split()]\n",
    "        \n",
    "        print(nCr(n,r))\n",
    "# } Driver Code Ends"
   ]
  },
  {
   "cell_type": "code",
   "execution_count": 5,
   "id": "f23c0545",
   "metadata": {},
   "outputs": [
    {
     "name": "stdout",
     "output_type": "stream",
     "text": [
      "1 \n",
      "5 2\n",
      "10\n"
     ]
    }
   ],
   "source": [
    "#User function Template for python3\n",
    "\n",
    "def nCr(n,r):\n",
    "    if n==0 or n==r or r==0:\n",
    "        return 1\n",
    "    return nCr(n-1,r-1) + nCr(n-1,r)\n",
    "    \n",
    "\n",
    "\n",
    "#{ \n",
    " # Driver Code Starts\n",
    "#Initial Template for Python 3\n",
    "\n",
    "#contributed by RavinderSinghPB\n",
    "if __name__ == '__main__':\n",
    "    tcs=int(input())\n",
    "    \n",
    "    for _ in range(tcs):\n",
    "        n,r=[int(x) for x in input().split()]\n",
    "        \n",
    "        print(nCr(n,r))\n",
    "# } Driver Code Ends"
   ]
  },
  {
   "cell_type": "markdown",
   "id": "25dd465c",
   "metadata": {},
   "source": [
    "### Check Palindrome\n",
    "\n",
    "You are given a number n. You need to see if the number is a palindrome or not (recursively)\n",
    "\n",
    "Example 1:\n",
    "\n",
    "Input:\n",
    "n = 100\n",
    "Output: 0\n",
    "Example 2:\n",
    "\n",
    "Input:\n",
    "n = 101\n",
    "Output: 1\n",
    "Your Task:\n",
    "\n",
    "Complete the function isPalin that takes n as parameter and returns true or false . (In case of true, 1 will be printed by the driver code, otherwise 0)\n",
    "\n",
    "Expected Time Complexity: O(Log(N)).\n",
    "Expected Auxiliary Space: O(Log(N)) (Recursive).\n",
    "\n",
    "Constraints:\n",
    "1 <= n <= 108"
   ]
  },
  {
   "cell_type": "code",
   "execution_count": 6,
   "id": "b4be5f8a",
   "metadata": {},
   "outputs": [
    {
     "name": "stdout",
     "output_type": "stream",
     "text": [
      "Enter a Number:101\n",
      "1\n"
     ]
    }
   ],
   "source": [
    "def isPal(N):\n",
    "    N=str(N)\n",
    "    if N==N[-1::-1]:\n",
    "        return 1\n",
    "    else:\n",
    "        return 0\n",
    "n=int(input(\"Enter a Number:\"))\n",
    "print(isPal(n))"
   ]
  },
  {
   "cell_type": "code",
   "execution_count": 9,
   "id": "2803f0f6",
   "metadata": {},
   "outputs": [
    {
     "name": "stdout",
     "output_type": "stream",
     "text": [
      "Enter string:abcba\n",
      "True\n"
     ]
    }
   ],
   "source": [
    "def isPalindrome(str,s,e):\n",
    "    if s>=e:\n",
    "        return True\n",
    "    return (str[s]==str[e]) and isPalindrome(str,s+1,e-1)\n",
    "str=input(\"Enter string:\")\n",
    "s=0\n",
    "e=len(str)-1\n",
    "print(isPalindrome(str,s,e))"
   ]
  },
  {
   "cell_type": "markdown",
   "id": "479b6b7f",
   "metadata": {},
   "source": [
    "### Recursively Sum N Numbers\n",
    "\n",
    "You are given a number n. You need to recursively sum the numbers from 1 to n and return the sum.\n",
    "\n",
    "Example 1:\n",
    "\n",
    "Input:\n",
    "n = 5\n",
    "Output: 15\n",
    "Example 2:\n",
    "\n",
    "Input:\n",
    "n = 4\n",
    "Output: 10\n",
    "Your Task:\n",
    "\n",
    "Complete the function recursiveSum that takes n as paramenter and return the sum.\n",
    "\n",
    "Expected Time Complexity: O(N).\n",
    "Expected Auxiliary Space: O(N) (Recursive).\n",
    "\n",
    "Constraints:\n",
    "0 <= n <= 100"
   ]
  },
  {
   "cell_type": "code",
   "execution_count": 8,
   "id": "68a1571c",
   "metadata": {},
   "outputs": [
    {
     "name": "stdout",
     "output_type": "stream",
     "text": [
      "Enter a Number:4\n",
      "10\n"
     ]
    }
   ],
   "source": [
    "def recursivesum(n):\n",
    "    if n<=1:\n",
    "        return n\n",
    "    else:\n",
    "        return n+recursivesum(n-1)\n",
    "n=int(input(\"Enter a Number:\"))\n",
    "print(recursivesum(n))"
   ]
  },
  {
   "cell_type": "markdown",
   "id": "05b914a0",
   "metadata": {},
   "source": [
    "### GCD Euclid\n",
    "\n",
    "You are given a two numbers a and b. Find their GCD using recursion.\n",
    "\n",
    "Example 1:\n",
    "\n",
    "Input:\n",
    "a = 7, b = 8\n",
    "Output: 1\n",
    "Example 2:\n",
    "\n",
    "Input:\n",
    "a = 2, b = 4\n",
    "Output: 2\n",
    "Your Task:\n",
    "\n",
    "Complete the function GCD that takes a and b as parameters and returns the GCD.\n",
    "\n",
    "Expected Time Complexity: O(Log(N)).\n",
    "Expected Auxiliary Space: O(Log(N)) (Recursive).\n",
    "\n",
    "Constraints:\n",
    "1 <= a, b <= 100"
   ]
  },
  {
   "cell_type": "code",
   "execution_count": 10,
   "id": "3ad3c8d8",
   "metadata": {},
   "outputs": [
    {
     "name": "stdout",
     "output_type": "stream",
     "text": [
      "Enter First Number:3\n",
      "Enter Second Number4\n",
      "1\n"
     ]
    }
   ],
   "source": [
    "def gcd(a,b):\n",
    "    if b==0:\n",
    "        return a\n",
    "    else:\n",
    "        return gcd(b,a%b)\n",
    "a=int(input(\"Enter First Number:\"))\n",
    "b=int(input(\"Enter Second Number\"))\n",
    "print(gcd(a,b))"
   ]
  }
 ],
 "metadata": {
  "kernelspec": {
   "display_name": "Python 3 (ipykernel)",
   "language": "python",
   "name": "python3"
  },
  "language_info": {
   "codemirror_mode": {
    "name": "ipython",
    "version": 3
   },
   "file_extension": ".py",
   "mimetype": "text/x-python",
   "name": "python",
   "nbconvert_exporter": "python",
   "pygments_lexer": "ipython3",
   "version": "3.9.13"
  }
 },
 "nbformat": 4,
 "nbformat_minor": 5
}
