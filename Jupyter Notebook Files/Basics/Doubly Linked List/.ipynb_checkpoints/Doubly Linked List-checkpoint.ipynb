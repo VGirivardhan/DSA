{
 "cells": [
  {
   "cell_type": "markdown",
   "id": "e2875781",
   "metadata": {},
   "source": [
    "## Doubly Linked List in Python\n",
    "\n",
    "A Doubly Linked List (DLL) contains an extra pointer, typically called the previous pointer, together with the next pointer and data which are there in the singly linked list.\n",
    "\n",
    "![](https://media.geeksforgeeks.org/wp-content/cdn-uploads/gq/2014/03/DLL1.png)\n",
    "\n",
    "### Implementation of Doubly Linked List:"
   ]
  },
  {
   "cell_type": "code",
   "execution_count": 2,
   "id": "ce72780e",
   "metadata": {},
   "outputs": [
    {
     "name": "stdout",
     "output_type": "stream",
     "text": [
      "A B C \n"
     ]
    }
   ],
   "source": [
    "class Node:\n",
    "\n",
    "    def __init__(self, data):\n",
    "        self.data = data\n",
    "        self.prev = None\n",
    "        self.next = None\n",
    "\n",
    "\n",
    "def printDll(head):\n",
    "    curr = head\n",
    "    while curr != None:\n",
    "        print(curr.data, end=\" \")\n",
    "        curr = curr.next\n",
    "    print()\n",
    "\n",
    "\n",
    "head = Node('A')\n",
    "temp1 = Node('B')\n",
    "temp2 = Node('C')\n",
    "\n",
    "head.next = temp1\n",
    "temp1.prev = head\n",
    "\n",
    "temp1.next = temp2\n",
    "temp2.prev = temp1\n",
    "\n",
    "printDll(head)\n"
   ]
  }
 ],
 "metadata": {
  "kernelspec": {
   "display_name": "Python 3 (ipykernel)",
   "language": "python",
   "name": "python3"
  },
  "language_info": {
   "codemirror_mode": {
    "name": "ipython",
    "version": 3
   },
   "file_extension": ".py",
   "mimetype": "text/x-python",
   "name": "python",
   "nbconvert_exporter": "python",
   "pygments_lexer": "ipython3",
   "version": "3.9.13"
  }
 },
 "nbformat": 4,
 "nbformat_minor": 5
}
