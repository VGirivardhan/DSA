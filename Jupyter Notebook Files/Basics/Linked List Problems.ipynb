{
 "cells": [
  {
   "cell_type": "markdown",
   "id": "9bdbee06",
   "metadata": {},
   "source": [
    "## 1.Display Linked List\n",
    "\n",
    "**Given a singly linked list of integers. The task is to display the linked list.**\n",
    "\n",
    "**Example 1:**\n",
    "\n",
    "**Input:**  \n",
    "LinkedList: 1->2->3->4->5  \n",
    "**Output:**  \n",
    "1 2 3 4 5  \n",
    "\n",
    "**Constraints:**\n",
    "- 1 <= Number of nodes <= 100\n",
    "- 0 <= value of nodes <= 103\n",
    "\n",
    "**Your Task:**  \n",
    "Your task is to complete the given function `displayList()`, which takes head reference as an argument and returns the linked list as an array.\n",
    "\n",
    "**Expected Time Complexity:** O(N).  \n",
    "**Expected Auxiliary Space:** O(1).\n"
   ]
  },
  {
   "cell_type": "code",
   "execution_count": 1,
   "id": "bb267243",
   "metadata": {},
   "outputs": [
    {
     "name": "stdout",
     "output_type": "stream",
     "text": [
      "2\n",
      "3\n",
      "10 20 30\n",
      "10 20 30 \n",
      "5\n",
      "90 80 70 60 50\n",
      "90 80 70 60 50 \n"
     ]
    }
   ],
   "source": [
    "#User function Template for python3\n",
    "\n",
    "'''\n",
    "class Node:\n",
    "    def __init__(self,data):\n",
    "        self.data=data\n",
    "        self.next=None\n",
    "'''\n",
    "def displayList(head):\n",
    "    lst=[]\n",
    "    curr=head\n",
    "    while curr!=None:\n",
    "        lst.append(curr.data)\n",
    "        curr=curr.next\n",
    "    return lst\n",
    "        \n",
    "\n",
    "\n",
    "#{ \n",
    " # Driver Code Starts\n",
    "#Initial Template for Python 3\n",
    "\n",
    "import io\n",
    "import sys\n",
    "\n",
    "    \n",
    "# Node class\n",
    "class Node:\n",
    "    def __init__(self,data):\n",
    "        self.data=data\n",
    "        self.next=None\n",
    "#Linked list class\n",
    "class LinkedList:\n",
    "    def __init__(self):\n",
    "        self.head=None\n",
    "        self.tail=None\n",
    "\n",
    "    # append at the end of the list\n",
    "    def append(self,new_node):\n",
    "        if self.head is None:\n",
    "            self.head=new_node\n",
    "            self.tail=new_node\n",
    "            return\n",
    "        self.tail.next=new_node\n",
    "        self.tail = self.tail.next\n",
    "\n",
    "if __name__ == '__main__':\n",
    "    t=int(input())\n",
    "    for cases in range(t):\n",
    "        n=int(input())\n",
    "        a=LinkedList()\n",
    "        nodes=list(map(int,input().strip().split())) #list containing nodes\n",
    "        for x in nodes:\n",
    "            node=Node(x) # create a new node\n",
    "            a.append(node)\n",
    "        l = displayList (a.head)\n",
    "        for x in l:\n",
    "            print(x,end=' ')\n",
    "        print () \n",
    "# } Driver Code Ends"
   ]
  }
 ],
 "metadata": {
  "kernelspec": {
   "display_name": "Python 3 (ipykernel)",
   "language": "python",
   "name": "python3"
  },
  "language_info": {
   "codemirror_mode": {
    "name": "ipython",
    "version": 3
   },
   "file_extension": ".py",
   "mimetype": "text/x-python",
   "name": "python",
   "nbconvert_exporter": "python",
   "pygments_lexer": "ipython3",
   "version": "3.9.13"
  }
 },
 "nbformat": 4,
 "nbformat_minor": 5
}
