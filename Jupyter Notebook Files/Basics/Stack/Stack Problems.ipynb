{
 "cells": [
  {
   "cell_type": "markdown",
   "id": "36ddacb5",
   "metadata": {},
   "source": [
    "## 1.Insert In Stack\n",
    "\n",
    "You are given an array arr[] of size N, the task is to insert the elements of the array into a stack from left to right.\n",
    "\n",
    "### Example 1:\n",
    "\n",
    "**Input:** \n",
    "```\n",
    "N = 5, arr[] = {1, 2, 3, 4, 5}\n",
    "```\n",
    "**Output:** \n",
    "```\n",
    "5 4 3 2 1\n",
    "```\n",
    "**Explanation:** \n",
    "```\n",
    "After inserting in the stack, it will look like {5, 4, 3, 2, 1}.\n",
    "```\n",
    "\n",
    "### Example 2:\n",
    "\n",
    "**Input:** \n",
    "```\n",
    "N = 1, arr[] = {1}\n",
    "```\n",
    "**Output:** \n",
    "```\n",
    "1\n",
    "```\n",
    "**Explanation:** \n",
    "```\n",
    "After inserting in the stack, it will look like {1}.\n",
    "```\n",
    "\n",
    "### Your Task: \n",
    "\n",
    "You don't need to read any input or print anything. Complete the function `insertIntoStack()` which takes an array size N and array arr[] as parameters and returns a stack.\n",
    "\n",
    "### Constraints:\n",
    "\n",
    "- 1 ≤ N ≤ 10^5\n",
    "\n",
    "### Expected Time Complexity: O(N)\n",
    "### Expected Auxiliary Space: O(N)\n"
   ]
  },
  {
   "cell_type": "code",
   "execution_count": 1,
   "id": "492759a3",
   "metadata": {},
   "outputs": [
    {
     "name": "stdout",
     "output_type": "stream",
     "text": [
      "2\n",
      "5\n",
      "1 2 3 4 5\n",
      "5 4 3 2 1 \n",
      "1\n",
      "1\n",
      "1 \n"
     ]
    }
   ],
   "source": [
    "#User function Template for python3\n",
    "\n",
    "class Solution:\n",
    "    def InsertInStack(self,n,arr):\n",
    "        stack=[]\n",
    "        for i in arr:\n",
    "            stack.append(i)\n",
    "        return stack\n",
    "\n",
    "\n",
    "#{ \n",
    " # Driver Code Starts\n",
    "#Initial Template for Python 3\n",
    "\n",
    "#contributed by RavinderSinghPB\n",
    "if __name__=='__main__':\n",
    "    tcs=int(input())\n",
    "\n",
    "    for _ in range(tcs):\n",
    "        n=int(input())\n",
    "        arr=[int(x) for x in input().split()]\n",
    "\n",
    "        stack=Solution().InsertInStack(n,arr)\n",
    "\n",
    "        while stack:\n",
    "            print(stack.pop(),end=' ')\n",
    "        print()\n",
    "\n",
    "# } Driver Code Ends"
   ]
  }
 ],
 "metadata": {
  "kernelspec": {
   "display_name": "Python 3 (ipykernel)",
   "language": "python",
   "name": "python3"
  },
  "language_info": {
   "codemirror_mode": {
    "name": "ipython",
    "version": 3
   },
   "file_extension": ".py",
   "mimetype": "text/x-python",
   "name": "python",
   "nbconvert_exporter": "python",
   "pygments_lexer": "ipython3",
   "version": "3.9.13"
  }
 },
 "nbformat": 4,
 "nbformat_minor": 5
}
