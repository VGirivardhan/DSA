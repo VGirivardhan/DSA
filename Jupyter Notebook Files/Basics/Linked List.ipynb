{
 "cells": [
  {
   "cell_type": "markdown",
   "id": "9d102422",
   "metadata": {},
   "source": [
    "# Linked List\n",
    "## Problems with Array Data Structure\n",
    "\n",
    "1. We need to preallocate the space.\n",
    "2. Insertion in the middle of an array is costly.\n",
    "3. Deletion from the beginning is costly.\n",
    "4. Implementation on data structures like queue and deque is complex.\n",
    "\n",
    "## Program for Round Robin Scheduling\n",
    "\n",
    "Round Robin is a CPU scheduling algorithm where each process is assigned a fixed time slot in a cyclic way. It is basically the preemptive version of First come First Serve CPU Scheduling algorithm. Round Robin CPU Algorithm generally focuses on Time Sharing technique. The period of time for which a process or job is allowed to run in a pre-emptive method is called a time quantum. Each process or job present in the ready queue is assigned the CPU for that time quantum, if the execution of the process is completed during that time then the process will end else the process will go back to the waiting table and wait for its next turn to complete the execution.\n",
    "\n",
    "**Examples to show working of Round Robin Scheduling Algorithm:**\n",
    "\n",
    "**Example-1:** Consider the following table of arrival time and burst time for four processes P1, P2, P3, and P4 and given Time Quantum = 2\n",
    "\n",
    "| Process | Burst Time | Arrival Time |\n",
    "|---------|------------|--------------|\n",
    "| P1      | 5 ms       | 0 ms         |\n",
    "| P2      | 4 ms       | 1 ms         |\n",
    "| P3      | 2 ms       | 2 ms         |\n",
    "| P4      | 1 ms       | 4 ms         |\n",
    "\n",
    "**The Round Robin CPU Scheduling Algorithm will work on the basis of steps as mentioned below:**\n",
    "\n",
    "| Time Interval | Process | Arrival Time | Ready Queue | Running Queue | Execution Time | Initial Burst Time | Remaining Burst Time |\n",
    "|---------------|---------|--------------|-------------|---------------|----------------|--------------------|----------------------|\n",
    "| 0-2 ms        | P1      | 0 ms         | P2, P3      | P1            | 2 ms           | 5 ms               | 3 ms                 |\n",
    "| 2-4 ms        | P1      | 0 ms         | P3, P1      | P2            | 0 ms           | 5 ms               | 3 ms                 |\n",
    "|               | P2      | 1 ms         | P3, P1      | P2            | 2 ms           | 4 ms               | 2 ms                 |\n",
    "| 4-6 ms        | P1      | 0 ms         | P1, P4, P2  | P3            | 0 ms           | 5 ms               | 3 ms                 |\n",
    "|               | P2      | 1 ms         | P1, P4, P2  | P3            | 1 ms           | 4 ms               | 2 ms                 |\n",
    "|               | P3      | 2 ms         | P1, P4, P2  | P3            | 2 ms           | 2 ms               | 0 ms                 |\n",
    "| 6-8 ms        | P1      | 0 ms         | P4, P2      | P1            | 2 ms           | 3 ms               | 1 ms                 |\n",
    "|               | P2      | 1 ms         | P4, P2      | P1            | 0 ms           | 4 ms               | 2 ms                 |\n",
    "| 8-9 ms        | P1      | 0 ms         | P2, P1      | P4            | 0 ms           | 3 ms               | 1 ms                 |\n",
    "|               | P2      | 1 ms         | P2, P1      | P4            | 0 ms           | 4 ms               | 2 ms                 |\n",
    "|               | P4      | 4 ms         | P2, P1      | P4            | 1 ms           | 1 ms               | 0 ms                 |\n",
    "| 9-11 ms       | P1      | 0 ms         | P1          | P2            | 0 ms           | 3 ms               | 1 ms                 |\n",
    "|               | P2      | 1 ms         | P1          | P2            | 2 ms           | 2 ms               | 0 ms                 |\n",
    "| 11-12 ms      | P1      | 0 ms         |              | P1            | 1 ms           | 1 ms               | 0 ms                 |\n",
    "\n",
    "**Gantt chart will be as following below:**\n",
    "![Round Robin](https://media.geeksforgeeks.org/wp-content/uploads/20220501232816/UntitledDiagram6-300x54.jpg)\n"
   ]
  },
  {
   "cell_type": "markdown",
   "id": "bf6bacf7",
   "metadata": {},
   "source": [
    "---\n",
    "## Linked List Introduction in Python\n",
    "\n",
    "### What is Linked List\n",
    "\n",
    "Like arrays, Linked List is a linear data structure. Unlike arrays, linked list elements are not stored at a contiguous location; the elements are linked using pointers. They include a series of connected nodes. Here, each node stores the data and the address of the next node.\n",
    "![Linked List](https://media.geeksforgeeks.org/wp-content/uploads/20220816144425/LLdrawio.png)\n",
    "\n",
    "### Why Linked List? \n",
    "\n",
    "Arrays can be used to store linear data of similar types, but arrays have the following limitations:\n",
    "\n",
    "- **The size of the arrays is fixed:** So we must know the upper limit on the number of elements in advance. Also, generally, the allocated memory is equal to the upper limit irrespective of the usage.\n",
    "- **Insertion of a new element / Deletion of an existing element in an array of elements is expensive:** The room has to be created for the new elements and to create room existing elements have to be shifted. But in Linked list if we have the head node then we can traverse to any node through it and insert a new node at the required position.\n",
    "---"
   ]
  },
  {
   "cell_type": "markdown",
   "id": "099f73ca",
   "metadata": {},
   "source": [
    "---\n",
    "## Simple Linked List Implementation in Python\n",
    "\n",
    "### Representation of Linked Lists\n",
    "\n",
    "A linked list is represented by a pointer to the first node of the linked list. The first node is called the head of the linked list. If the linked list is empty, then the value of the head points to NULL.\n",
    "\n",
    "Each node in a list consists of at least two parts:\n",
    "\n",
    "- **Data Item:** We can store integers, strings, or any type of data.\n",
    "- **Pointer (Or Reference) to the Next Node:** Connects one node to another or an address of another node.\n",
    "---"
   ]
  },
  {
   "cell_type": "code",
   "execution_count": 4,
   "id": "723e854c",
   "metadata": {},
   "outputs": [
    {
     "name": "stdout",
     "output_type": "stream",
     "text": [
      "10\n",
      "20\n",
      "30\n"
     ]
    }
   ],
   "source": [
    "# Basic Approach\n",
    "class Node:\n",
    "    def __init__(self,k):\n",
    "        self.key=k\n",
    "        self.next=None\n",
    "        \n",
    "temp1=Node(10)\n",
    "temp2=Node(20)\n",
    "temp3=Node(30)\n",
    "\n",
    "temp1.next=temp2\n",
    "temp2.next=temp3\n",
    "\n",
    "head=temp1\n",
    "print(head.key)\n",
    "print(head.next.key)\n",
    "print(head.next.next.key)"
   ]
  },
  {
   "cell_type": "code",
   "execution_count": 5,
   "id": "73300091",
   "metadata": {},
   "outputs": [
    {
     "name": "stdout",
     "output_type": "stream",
     "text": [
      "10\n",
      "20\n",
      "30\n"
     ]
    }
   ],
   "source": [
    "# Alternative Approach \n",
    "class Node:\n",
    "    def __init__(self,k):\n",
    "        self.key=k\n",
    "        self.next=None\n",
    "head=Node(10)\n",
    "head.next=Node(20)\n",
    "head.next.next=Node(30)\n",
    "print(head.key)\n",
    "print(head.next.key)\n",
    "print(head.next.next.key)"
   ]
  },
  {
   "cell_type": "markdown",
   "id": "d06050a9",
   "metadata": {},
   "source": [
    "---\n",
    "\n",
    "## Applications of Linked List in Computer Science:\n",
    "\n",
    "- **Implementation of Stacks and Queues:** Linked lists are commonly used to implement stack and queue data structures due to their dynamic nature and efficient insertion and deletion operations.\n",
    "\n",
    "- **Implementation of Graphs:** Adjacency list representation of graphs is popular, and it uses a linked list to store adjacent vertices, allowing efficient traversal and modification of graph structures.\n",
    "\n",
    "- **Dynamic Memory Allocation:** Linked lists of free blocks are used in memory management for dynamic memory allocation, enabling efficient allocation and deallocation of memory blocks.\n",
    "\n",
    "- **Maintaining a Directory of Names:** Linked lists can be used to maintain a directory of names, allowing easy addition, deletion, and traversal of the directory entries.\n",
    "\n",
    "- **Performing Arithmetic Operations on Long Integers:** Linked lists can be used to represent long integers by storing digits in separate nodes, facilitating arithmetic operations on large numbers.\n",
    "\n",
    "- **Manipulation of Polynomials:** Polynomials can be represented using linked lists by storing coefficients and exponents in the nodes, enabling easy manipulation and calculation of polynomial expressions.\n",
    "\n",
    "- **Representing Sparse Matrices:** Linked lists can efficiently represent sparse matrices by storing only the non-zero elements along with their row and column indices.\n",
    "\n",
    "---\n",
    "\n",
    "## Applications of Linked List in the Real World:\n",
    "\n",
    "- **Image Viewer:** Previous and next images are linked in an image viewer, allowing users to navigate through a sequence of images using previous and next buttons.\n",
    "\n",
    "- **Web Browser Navigation:** Previous and next pages in a web browser history are linked, enabling users to navigate through their browsing history using back and forward buttons.\n",
    "\n",
    "- **Music Player:** Songs in a music player are linked to the previous and next songs, allowing users to play songs sequentially or shuffle through the playlist using controls.\n",
    "\n",
    "---\n"
   ]
  },
  {
   "cell_type": "markdown",
   "id": "2c54e054",
   "metadata": {},
   "source": [
    "---\n",
    "## Traversing a Linked List in Python\n",
    "\n",
    "\n",
    "In the previous program, we created a simple linked list with three nodes. Let us traverse the created list and print the data of each node. For traversal, let us write a general-purpose function `printList()` that prints any given list.\n",
    "\n",
    "---\n"
   ]
  },
  {
   "cell_type": "code",
   "execution_count": 5,
   "id": "1b79287d",
   "metadata": {},
   "outputs": [
    {
     "name": "stdout",
     "output_type": "stream",
     "text": [
      "10 20 15 30 "
     ]
    }
   ],
   "source": [
    "class Node:\n",
    "    def __init__(self,k):\n",
    "        self.key=k\n",
    "        self.next=None\n",
    "def printList(head):\n",
    "    curr=head\n",
    "    while curr!=None:\n",
    "        print(curr.key,end=\" \")\n",
    "        curr=curr.next\n",
    "head=Node(10)\n",
    "head.next=Node(20)\n",
    "head.next.next=Node(15)\n",
    "head.next.next.next=Node(30)\n",
    "printList(head)"
   ]
  },
  {
   "cell_type": "markdown",
   "id": "d834b7ae",
   "metadata": {},
   "source": [
    "\n",
    "**Time Complexity:**\n",
    "\n",
    "| Operation | Worst Case | Average Case |\n",
    "|-----------|------------|--------------|\n",
    "| Search    | O(n)       | O(n)         |\n",
    "| Insert    | O(n)       | O(n)         |\n",
    "| Deletion  | O(n)       | O(n)         |\n",
    "\n",
    "**Auxiliary Space: O(1)**"
   ]
  },
  {
   "cell_type": "markdown",
   "id": "24a394f4",
   "metadata": {},
   "source": [
    "## Search in Linked List"
   ]
  },
  {
   "cell_type": "code",
   "execution_count": 1,
   "id": "0a3569e3",
   "metadata": {},
   "outputs": [
    {
     "name": "stdout",
     "output_type": "stream",
     "text": [
      "Enter Element value to search:20\n",
      "1\n"
     ]
    }
   ],
   "source": [
    "class Node:\n",
    "    def __init__(self,k):\n",
    "        self.key=k\n",
    "        self.next=None\n",
    "def searchlist(head,x):\n",
    "    curr=head\n",
    "    idx=0\n",
    "    found=0\n",
    "    while curr!=None:\n",
    "        if curr.key==x:\n",
    "            found=1\n",
    "            break\n",
    "        idx+=1\n",
    "        curr=curr.next\n",
    "    if found==1:\n",
    "        return idx\n",
    "    else:\n",
    "        return -1\n",
    "        \n",
    "    \n",
    "        \n",
    "head=Node(10)\n",
    "head.next=Node(20)\n",
    "head.next.next=Node(15)\n",
    "head.next.next.next=Node(30)\n",
    "x=int(input(\"Enter Element value to search:\"))\n",
    "print(searchlist(head,x))"
   ]
  },
  {
   "cell_type": "markdown",
   "id": "dd798270",
   "metadata": {},
   "source": [
    "\n",
    "## Insert At The Beginning of Linked List in Python\n",
    "\n",
    "**Add a node at the front:**  \n",
    "Approach: The new node is always added before the head of the given Linked List. And newly added node becomes the new head of the Linked List. For example, if the given Linked List is 10->15->20->25 and we add an item 5 at the front, then the Linked List becomes 5->10->15->20->25. Let us call the function that adds at the front of the list is `push()`. The `push()` must receive a pointer to the head pointer because the push must change the head pointer to point to the new node.\n",
    "![Insert at the begining](https://media.geeksforgeeks.org/wp-content/cdn-uploads/gq/2013/03/Linkedlist_insert_at_start.png)\n",
    "**Complexity Analysis:**\n",
    "- **Time Complexity:** O(1), We have a pointer to the head and we can directly attach a node and change the pointer. So the Time complexity of inserting a node at the head position is O(1) as it does a constant amount of work.\n",
    "- **Auxiliary Space:** O(1)\n"
   ]
  },
  {
   "cell_type": "code",
   "execution_count": 2,
   "id": "34de5ce9",
   "metadata": {},
   "outputs": [
    {
     "name": "stdout",
     "output_type": "stream",
     "text": [
      "30\n",
      "20\n",
      "10\n"
     ]
    }
   ],
   "source": [
    "class Node:\n",
    "    def __init__(self,key):\n",
    "        self.key=key\n",
    "        self.next=None\n",
    "\n",
    "def insertBegin(head,key):\n",
    "        temp=Node(key)\n",
    "        temp.next=head\n",
    "        return temp\n",
    "\n",
    "\n",
    "head=None\n",
    "head=insertBegin(head,10)\n",
    "head=insertBegin(head,20)\n",
    "head=insertBegin(head,30)\n",
    "\n",
    "def printList(head):\n",
    "    curr = head\n",
    "    while curr!= None:\n",
    "        print(curr.key)\n",
    "        curr = curr.next\n",
    "\n",
    "\n",
    "printList(head)"
   ]
  }
 ],
 "metadata": {
  "kernelspec": {
   "display_name": "Python 3 (ipykernel)",
   "language": "python",
   "name": "python3"
  },
  "language_info": {
   "codemirror_mode": {
    "name": "ipython",
    "version": 3
   },
   "file_extension": ".py",
   "mimetype": "text/x-python",
   "name": "python",
   "nbconvert_exporter": "python",
   "pygments_lexer": "ipython3",
   "version": "3.9.13"
  }
 },
 "nbformat": 4,
 "nbformat_minor": 5
}
