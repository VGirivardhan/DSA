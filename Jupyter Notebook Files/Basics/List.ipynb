{
 "cells": [
  {
   "cell_type": "markdown",
   "id": "4366e83c",
   "metadata": {},
   "source": [
    "### Get Element At Index\n",
    "You are given an array arr(0-based indexing). The size of the array is given by n. You need to get the element at index i and return it. If no element exists at i then return -1.\n",
    "\n",
    "Example 1:\n",
    "\n",
    "Input:\n",
    "n = 6\n",
    "arr[] = {1 2 3 4 5 6}\n",
    "index = 0\n",
    "Output: 1\n",
    "Explanation: The array is {1 2 3 4 5 6}.\n",
    "The index given is 0. so element at 0th\n",
    "index is 1.\n",
    "Example 2:\n",
    "\n",
    "Input:\n",
    "n = 4\n",
    "arr[] = {1 2 3 4}\n",
    "index = 4\n",
    "Output: -1\n",
    "Explanation: The array is {1 2 3 4}. The\n",
    "index given is 4. Here no element exists\n",
    "at the 4th index, so the answer is -1.\n",
    "Your Task:\n",
    "This is a function problem. The input is already taken care of by the driver code. You only need to complete the function getByIndex() that takes arr, n, i as input and return the required result. The driver code takes care of the printing.\n",
    "\n",
    "Expected Time Complexity: O(1).\n",
    "Expected Auxiliary Space: O(1).\n",
    "\n",
    "Constraints:\n",
    "1 <= n<= 103\n",
    "0 <= arri <= 106\n",
    "1 <= index <= 106"
   ]
  },
  {
   "cell_type": "code",
   "execution_count": 2,
   "id": "8b97dc9d",
   "metadata": {},
   "outputs": [
    {
     "name": "stdout",
     "output_type": "stream",
     "text": [
      "Enter the number of test cases: 2\n",
      "Enter the size of the array: 4\n",
      "Enter the array elements: 1 2 3 4\n",
      "Enter the index to retrieve: 3\n",
      "4\n",
      "Enter the size of the array: 6\n",
      "Enter the array elements: 1 7 8 9 6 5\n",
      "Enter the index to retrieve: 3\n",
      "9\n"
     ]
    }
   ],
   "source": [
    "# User function to get element by index\n",
    "def getByIndex(arr, n, idx):\n",
    "    if 0 <= idx < n:\n",
    "        return arr[idx]\n",
    "    else:\n",
    "        return -1\n",
    "\n",
    "# Driver code\n",
    "if __name__ == '__main__':\n",
    "    tcs = int(input(\"Enter the number of test cases: \"))\n",
    "    \n",
    "    for _ in range(tcs):\n",
    "        n = int(input(\"Enter the size of the array: \"))\n",
    "        arr = [int(x) for x in input(\"Enter the array elements: \").split()]  # Use split to separate values\n",
    "        idx = int(input(\"Enter the index to retrieve: \"))\n",
    "        \n",
    "        print(getByIndex(arr, n, idx))\n"
   ]
  },
  {
   "cell_type": "markdown",
   "id": "0b375625",
   "metadata": {},
   "source": [
    "### Array insert at end\n",
    "Insertion is a basic but frequently used operation. Arrays in most languages can not be dynamically shrinked or expanded. Here, we will work with such arrays and try to insert an element at the end of the array.\n",
    "\n",
    "You are given an array arr. The size of the array is given by sizeOfArray. You need to insert an element at the end.\n",
    "Array already have the sizeofarray -1 elements.\n",
    "\n",
    "Example 1:\n",
    "\n",
    "Input:\n",
    "sizeOfArray = 6\n",
    "arr[] = {1, 2, 3, 4, 5}\n",
    "element = 90\n",
    "Output: 1 2 3 4 5 90\n",
    "Explanation: After inserting 90 at the\n",
    "end, we have array elements as \n",
    "1 2 3 4 5 90.\n",
    "Example 2:\n",
    "\n",
    "Input:\n",
    "sizeOfArray = 4\n",
    "arr[] = {1, 2, 3}\n",
    "element = 50\n",
    "Output: 1 2 3 50\n",
    "Explanation: After inserting 50 at the \n",
    "end, we have array elements as \n",
    "1 2 3 50.\n",
    "Your Task:\n",
    "You don't need to read input or print anything. You only need to complete the function insertAtEnd() that takes arr, sizeOfArray, element as input and modifies arr as per requirements. The driver code takes care of the printing.\n",
    "\n",
    "Expected Time Complexity: O(1).\n",
    "Expected Auxiliary Space: O(1).\n",
    "\n",
    "Constraints:\n",
    "1 <= sizeOfArray <= 1000\n",
    "0 <= element, arri <= 106"
   ]
  },
  {
   "cell_type": "code",
   "execution_count": 2,
   "id": "fa4bf88b",
   "metadata": {},
   "outputs": [
    {
     "name": "stdout",
     "output_type": "stream",
     "text": [
      "Enter the size of the array: 5\n",
      "Enter the array elements separated by space: 1 2 3 4 \n",
      "Enter the element to be inserted: 50\n",
      "Modified Array:\n",
      "1 2 3 4 50 \n"
     ]
    }
   ],
   "source": [
    "# User function Template for python3\n",
    "\n",
    "# You only need to insert the given element at \n",
    "# the end, i.e., at index sizeOfArray - 1. You may \n",
    "# assume that the array already has sizeOfArray - 1\n",
    "# elements. \n",
    "def insertAtEnd(arr, sizeOfArray, element):\n",
    "    arr.append(element)\n",
    "\n",
    "\n",
    "# Driver Code\n",
    "def main():\n",
    "    # Take user input for the size of the array\n",
    "    sizeOfArray = int(input(\"Enter the size of the array: \"))\n",
    "\n",
    "    # Take user input for the existing array elements\n",
    "    arr = [int(x) for x in input(\"Enter the array elements separated by space: \").strip().split()]\n",
    "\n",
    "    # Take user input for the element to be inserted\n",
    "    element = int(input(\"Enter the element to be inserted: \"))\n",
    "\n",
    "    # Call the insertAtEnd function\n",
    "    insertAtEnd(arr, sizeOfArray, element)\n",
    "\n",
    "    # Print the modified array\n",
    "    print(\"Modified Array:\")\n",
    "    for i in arr:\n",
    "        print(i, end=\" \")\n",
    "    print()\n",
    "\n",
    "if __name__ == \"__main__\":\n",
    "    main()\n"
   ]
  },
  {
   "cell_type": "markdown",
   "id": "42f23e6c",
   "metadata": {},
   "source": [
    "### Array insert at index\n",
    "Insertion is a basic but frequently used operation. Arrays in most languages cannnot be dynamically shrinked or expanded. Here, we will work with such arrays and try to insert an element at some index.\n",
    "\n",
    "You are given an array arr(0-based index). The size of the array is given by sizeOfArray. You need to insert an element at given index.\n",
    "\n",
    "Example 1:\n",
    "\n",
    "Input:\n",
    "sizeOfArray = 6\n",
    "arr[] = {1, 2, 3, 4, 5}\n",
    "index = 5, element = 90\n",
    "Output: 1 2 3 4 5 90\n",
    "Explanation: 90 is inserted at index\n",
    "5(0-based indexing). After inserting,\n",
    "array elements are like\n",
    "1, 2, 3, 4, 5, 90.\n",
    "Example 2:\n",
    "\n",
    "Input:\n",
    "sizeOfArray = 6\n",
    "arr[] = {1, 2, 3, 4, 5}\n",
    "index = 2, element = 90\n",
    "Output: 1 2 90 3 4 5\n",
    "Explanation: 90 is inserted at index \n",
    "2(0-based indexing). After inserting,\n",
    "array elements are like \n",
    "1, 2, 90, 3, 4, 5.\n",
    "Your Task:\n",
    "You don't need to read input or print anything.. The input is already taken care of by the driver code. You only need to complete the function insertAtIndex() that takes arr, sizeOfArray, index, element as input and modifies the array arr as per requirements. The printing is done by driver code.\n",
    "\n",
    "Expected Time Complexity: O(N).\n",
    "Expected Auxiliary Space: O(1).\n",
    "\n",
    "Constraints:\n",
    "1 <= sizeOfArray <= 10000\n",
    "0 <= element, arri <= 106\n",
    "0 <= index <= sizeOfArray-1"
   ]
  },
  {
   "cell_type": "code",
   "execution_count": 1,
   "id": "57fdfef3",
   "metadata": {},
   "outputs": [
    {
     "name": "stdout",
     "output_type": "stream",
     "text": [
      "Enter the size of the array: 4\n",
      "Enter the array elements separated by space: 1 2 3 \n",
      "Enter the index and element to be inserted (separated by space): 2 26\n",
      "Modified Array:\n",
      "1 2 26 3 \n"
     ]
    }
   ],
   "source": [
    "class Solution:\n",
    "    def insertAtIndex(self, arr, sizeOfArray, index, element):\n",
    "        if 0 <= index < sizeOfArray:\n",
    "            arr.insert(index, element)\n",
    "\n",
    "def main():\n",
    "    sizeOfArray = int(input(\"Enter the size of the array: \"))\n",
    "    arr = [int(x) for x in input(\"Enter the array elements separated by space: \").strip().split()]\n",
    "    index, element = map(int, input(\"Enter the index and element to be inserted (separated by space): \").strip().split())\n",
    "\n",
    "    sol = Solution()\n",
    "    sol.insertAtIndex(arr, sizeOfArray, index, element)\n",
    "\n",
    "    print(\"Modified Array:\")\n",
    "    for i in arr:\n",
    "        print(i, end=\" \")\n",
    "    print()\n",
    "\n",
    "if __name__ == \"__main__\":\n",
    "    main()\n"
   ]
  },
  {
   "cell_type": "markdown",
   "id": "dd288793",
   "metadata": {},
   "source": [
    "### Array Update At Index\n",
    "\n",
    "You are given an array arr(0-based indexing). The size of the array is given by n. You need to update an element at the given index. The arr[i] of the array is initially set to i+1.\n",
    "\n",
    "NOTE THAT: You only have to update elements, you don't need to print or return anything. \n",
    "\n",
    "Example 1:\n",
    "\n",
    "Input:\n",
    "n = 5\n",
    "index = 4,element = 8\n",
    "Explanation: Element at 4th index updated to 8\n",
    "Example 2:\n",
    "\n",
    "Input:\n",
    "n = 2\n",
    "index = 0,element = 99\n",
    "Explanation: Element at 0th index updated to 99\n",
    "Your Task:\n",
    "This is a function problem. The input is already taken care of by the driver code. You only need to complete the function updateArray() that takes arr, n, index, element as parameters and modifies the array arr as per requirements. (element at index is printed by the driver's code)\n",
    "\n",
    "Expected Time Complexity: O(1).\n",
    "Expected Auxiliary Space: O(1).\n",
    "\n",
    "Constraints:\n",
    "1 <= n<= 103\n",
    "0 <= element <= 106\n",
    "0 <= index <= n-1\n",
    "\n"
   ]
  },
  {
   "cell_type": "code",
   "execution_count": 4,
   "id": "1baf4079",
   "metadata": {},
   "outputs": [
    {
     "name": "stdout",
     "output_type": "stream",
     "text": [
      "Enter the size of the array: 5\n",
      "Enter index and element separated by space: 2 40\n",
      "Updated array: [1, 2, 40, 4, 5]\n"
     ]
    }
   ],
   "source": [
    "def updateArray(arr, n, idx, element):\n",
    "    if 0 <= idx < n:\n",
    "        arr[idx] = element\n",
    "    else:\n",
    "        return -1\n",
    "\n",
    "if __name__ == '__main__':\n",
    "    n = int(input(\"Enter the size of the array: \"))\n",
    "    arr = [i + 1 for i in range(n)]\n",
    "    idx, element = [int(x) for x in input(\"Enter index and element separated by space: \").split()]\n",
    "    \n",
    "    \n",
    "    \n",
    "   \n",
    "    result = updateArray(arr, n, idx, element)\n",
    "\n",
    "    if result == -1:\n",
    "        print(\"Invalid index.\")\n",
    "    else:\n",
    "        print(\"Updated array:\", arr)\n",
    "\n",
    "       \n"
   ]
  },
  {
   "cell_type": "markdown",
   "id": "3a945d99",
   "metadata": {},
   "source": [
    "### Array Delete And Shift\n",
    "\n",
    "ou are given an array arr(0-based indexing). The size of the array is given by n. You need to delete an element at given index and print the modified array. The arr[i] of array is initially set to i+1.\n",
    "Deletion means you need to shift all the elements after that index to the left by 1 position and set the last element as zero.\n",
    "\n",
    "Example 1:\n",
    "\n",
    "Input:\n",
    "n = 5\n",
    "index = 0\n",
    "Output: 2 3 4 5 0\n",
    "Example 2:\n",
    "\n",
    "Input:\n",
    "n = 6\n",
    "index = 3\n",
    "Output: 1 2 3 5 6 0\n",
    "Your Task:\n",
    "This is a function problem. The input is already taken care of by the driver code. You only need to complete the function deleteFromArray() that takes arr, n, index as parameters and modifies the array arr as per requirements. \n",
    "\n",
    "Expected Time Complexity: O(n).\n",
    "Expected Auxiliary Space: O(1).\n",
    "\n",
    "Constraints:\n",
    "1 <= n<= 103\n",
    "0 <= index <= n-1\n"
   ]
  },
  {
   "cell_type": "code",
   "execution_count": 6,
   "id": "abfd3e53",
   "metadata": {},
   "outputs": [
    {
     "name": "stdout",
     "output_type": "stream",
     "text": [
      "Enter the size of the array: 4\n",
      "Enter the index to delete: 2\n",
      "1 2 4 0 \n"
     ]
    }
   ],
   "source": [
    "def deleteFromArray(arr, n, idx):\n",
    "    if 0 <= idx < n:\n",
    "        arr.pop(idx)\n",
    "        arr.append(0)\n",
    "    else:\n",
    "        return -1\n",
    "\n",
    "n = int(input(\"Enter the size of the array: \"))\n",
    "idx = int(input(\"Enter the index to delete: \"))\n",
    "\n",
    "arr = [i + 1 for i in range(n)]\n",
    "\n",
    "deleteFromArray(arr, n, idx)\n",
    "\n",
    "for e in arr:\n",
    "    print(e, end=' ')\n",
    "print()\n"
   ]
  },
  {
   "cell_type": "markdown",
   "id": "896dfc50",
   "metadata": {},
   "source": [
    "### Average of a List:"
   ]
  },
  {
   "cell_type": "code",
   "execution_count": 7,
   "id": "82719c46",
   "metadata": {},
   "outputs": [
    {
     "name": "stdout",
     "output_type": "stream",
     "text": [
      "Average of the list = 35.75\n"
     ]
    }
   ],
   "source": [
    "def Average(lst):\n",
    "    return sum(lst) / len(lst)\n",
    "\n",
    "lst = [15, 9, 55, 41, 35, 20, 62, 49]\n",
    "average = Average(lst)\n",
    "\n",
    "\n",
    "print(\"Average of the list =\", round(average, 2))"
   ]
  },
  {
   "cell_type": "code",
   "execution_count": 8,
   "id": "2b314cbe",
   "metadata": {},
   "outputs": [
    {
     "name": "stdout",
     "output_type": "stream",
     "text": [
      "Average of the list = 35.75\n"
     ]
    }
   ],
   "source": [
    "def Average(lst):\n",
    "    sum=0\n",
    "    for i in lst:\n",
    "        sum+=i\n",
    "    avg=sum/len(lst)\n",
    "    return avg\n",
    "\n",
    "lst = [15, 9, 55, 41, 35, 20, 62, 49]\n",
    "average = Average(lst)\n",
    "\n",
    "\n",
    "print(\"Average of the list =\", round(average, 2))"
   ]
  },
  {
   "cell_type": "markdown",
   "id": "37161192",
   "metadata": {},
   "source": [
    "### Mean And Median of Array\n",
    "Given an array a[ ] of size N. The task is to find the median and mean of the array elements. Mean is average of the numbers and median is the element which is smaller than half of the elements and greater than remaining half.  If there are odd elements, the median is simply the middle element in the sorted array. If there are even elements, then the median is floor of average of two middle numbers in the sorted array. If mean is floating point number, then we need to print floor of it.\n",
    "\n",
    "Note: To find the median, you might need to sort the array. Since sorting is covered in later tracks, we have already provided the sort function to you in the code.\n",
    "\n",
    "Example 1:\n",
    "\n",
    "Input:\n",
    "N = 5\n",
    "a[] = {1, 2, 19, 28, 5}\n",
    "Output: 11 5\n",
    "Explanation: For array of 5 elements,\n",
    "mean is (1 + 2 + 19  + 28  + 5)/5 = 11.\n",
    "Median is 5 (middle element after \n",
    "sorting)\n",
    "Example 2:\n",
    "\n",
    "Input:\n",
    "N = 4\n",
    "a[] = {2, 8, 3, 4}\n",
    "Output: 4 3\n",
    "Explanation: For array of 4 elements,\n",
    "mean is floor((2 + 8 + 3 + 4)/4) = 4.\n",
    "Median is floor((4 + 3)/2) = 3\n",
    "Your Task:\n",
    "You don't need to read input or print anything.. You just need to complete the following two function:\n",
    "\n",
    "mean(): It takes the array and its size N as parameters and returns the mean as an integer.\n",
    "median(): It takes the array and its size N as parameters and returns the median as an integer.\n",
    "Expected Time Complexity: O(N log(N)).\n",
    "Expected Auxiliary Space: O(1).\n",
    "\n",
    "Constraints:\n",
    "1 <= N <= 106\n",
    "1 <= a[i] <= 106\n"
   ]
  },
  {
   "cell_type": "code",
   "execution_count": 3,
   "id": "e4a050c3",
   "metadata": {},
   "outputs": [
    {
     "name": "stdout",
     "output_type": "stream",
     "text": [
      "Enter array size: 4\n",
      "Enter array elements separated by space: 2 8 3 4\n",
      "4 3\n"
     ]
    }
   ],
   "source": [
    "def median(A, N):\n",
    "    A.sort()\n",
    "\n",
    "    if N % 2 == 0:\n",
    "        mid = N // 2\n",
    "        sum_val = A[mid] + A[mid - 1]\n",
    "        return int(sum_val / 2)\n",
    "    else:\n",
    "        mid = N // 2\n",
    "        return A[mid]\n",
    "\n",
    "def mean(A, N):\n",
    "    return int(sum(A) / N)\n",
    "\n",
    "\n",
    "\n",
    "N = int(input(\"Enter array size: \"))\n",
    "a = [int(x) for x in input(\"Enter array elements separated by space: \").strip().split()]\n",
    "print(mean(a, N),median(a, N))\n",
    "\n",
    "    \n"
   ]
  },
  {
   "cell_type": "markdown",
   "id": "cb0ad76c",
   "metadata": {},
   "source": [
    "### Count Smaller Than X\n",
    "\n",
    "Given an unsorted array arr[] of size N containing non-negative integers. You will also be given an integer X, the task is to count the number of elements which are strictly smaller than X. The given integer may or not be present in the array given.\n",
    "\n",
    "Example 1:\n",
    "\n",
    "Input:\n",
    "N = 5\n",
    "arr[] = {4 5 3 1 2}\n",
    "X = 3\n",
    "Output: 2\n",
    "Explanation: Here X = 3, and elements that\n",
    "are smaller than X are 1 and 2.\n",
    "Example 2:\n",
    "\n",
    "Input:\n",
    "N = 6\n",
    "arr[] = {2 2 2 2 2 2}\n",
    "X = 3\n",
    "Output: 6\n",
    "Explanation: Here X = 3, and elements that\n",
    "are smaller than X are 2 2 2 2 2 2.\n",
    "Your Task:\n",
    "Since this is a functional problem you don't have to worry about the input, you just have to complete the given function smallerThanX() which takes 3 arguments(array arr, N, and X) and returns the count of elements smaller than X. The printing is done by the driver code.\n",
    "\n",
    "Expected Time Complexity: O(N).\n",
    "Expected Auxiliary Space: O(1).\n",
    "\n",
    "Constraints:\n",
    "1 <= N <= 106\n",
    "1 <= arr[i], X <= 105  "
   ]
  },
  {
   "cell_type": "code",
   "execution_count": 8,
   "id": "142c567e",
   "metadata": {},
   "outputs": [
    {
     "name": "stdout",
     "output_type": "stream",
     "text": [
      "Enter the size of the array: 4 \n",
      "Enter array elements separated by space: 1 2 3 4\n",
      "Enter the value of X: 2\n",
      "1\n"
     ]
    }
   ],
   "source": [
    "# User function Template for python3\n",
    "\n",
    "def smallerThanX(arr, n, x):\n",
    "    count = 0\n",
    "    for num in arr:\n",
    "        if num < x:\n",
    "            count += 1\n",
    "    return count\n",
    "\n",
    "\n",
    "# User instructions\n",
    "n = int(input(\"Enter the size of the array: \"))\n",
    "arr = [int(e) for e in input(\"Enter array elements separated by space: \").split()]\n",
    "x = int(input(\"Enter the value of X: \"))\n",
    "\n",
    "ans = smallerThanX(arr, n, x)\n",
    "print(ans)\n"
   ]
  },
  {
   "cell_type": "markdown",
   "id": "9822ec76",
   "metadata": {},
   "source": [
    "### Find Immediate Smaller Than X\n",
    "\n",
    "Given an array arr[] of size N containing positive integers and an integer X, find the element in the array which is smaller than X and closest to it.\n",
    "\n",
    " \n",
    "\n",
    "Example 1:\n",
    "\n",
    "Input:\n",
    "N = 5\n",
    "arr[] = {4 67 13 12 15}\n",
    "X = 16\n",
    "Output: 15\n",
    "Explanation: For a given value 16, there\n",
    "are four values which are smaller than\n",
    "it. But 15 is the number which is smaller\n",
    "and closest to it with minimum difference\n",
    "of 1.\n",
    " \n",
    "\n",
    "Example 2:\n",
    "\n",
    "Input:\n",
    "N = 5\n",
    "arr[] = {1 2 3 4 5}\n",
    "X = 1\n",
    "Output: -1\n",
    "Explanation: No value is smaller than 1.\n",
    " \n",
    "\n",
    "Your Task:\n",
    "You don't need to read input or print anything. You need to complete the given function immediateSmaller() which takes arr, N and X as input parameters and returns the closest element that is smaller than X. If no such element exists, return -1.\n",
    "\n",
    " \n",
    "\n",
    "Expected Time Complexity: O(N)\n",
    "Expected Auxiliary Space: O(1)\n",
    "\n",
    " \n",
    "\n",
    "Constraints:\n",
    "1 <= N <= 103\n",
    "1 <= arr[i], X <= 104"
   ]
  },
  {
   "cell_type": "code",
   "execution_count": 9,
   "id": "bd7e8615",
   "metadata": {},
   "outputs": [
    {
     "name": "stdout",
     "output_type": "stream",
     "text": [
      "Enter the size of the array: 4\n",
      "Enter array elements separated by space: 55 66 11 22\n",
      "Enter the value of X: 30\n",
      "22\n"
     ]
    }
   ],
   "source": [
    "# User function Template for python3\n",
    "\n",
    "def immediateSmaller(arr, n, x):\n",
    "    smaller_list = []\n",
    "    for num in arr:\n",
    "        if num < x:\n",
    "            smaller_list.append(num)\n",
    "\n",
    "    if len(smaller_list) == 0:\n",
    "        return -1\n",
    "    else:\n",
    "        return max(smaller_list)\n",
    "\n",
    "\n",
    "# User instructions\n",
    "n = int(input(\"Enter the size of the array: \"))\n",
    "arr = [int(e) for e in input(\"Enter array elements separated by space: \").split()]\n",
    "x = int(input(\"Enter the value of X: \"))\n",
    "\n",
    "ans = immediateSmaller(arr, n, x)\n",
    "print(ans)\n"
   ]
  },
  {
   "cell_type": "markdown",
   "id": "c7f32794",
   "metadata": {},
   "source": [
    "### Count Elements Greater Than X\n",
    "\n",
    "Given an unsorted array arr[] of size N containing non-negative integers. You will also be given an integer X, the task is to count the number of elements which are strictly greater than X. The given integer may or not be present in the array given.\n",
    "\n",
    "Example 1:\n",
    "\n",
    "Input:\n",
    "N = 5\n",
    "arr[] = {4 5 3 1 2}\n",
    "X = 3\n",
    "Output: 2\n",
    "Explanation: Here X is 3. The elements\n",
    "greater than X are 4 and 5.\n",
    "Example 2:\n",
    "\n",
    "Input:\n",
    "N = 6\n",
    "arr[] = {2 2 2 2 2 2}\n",
    "X = 3\n",
    "Output: 0\n",
    "Explanation: Here X is 3. There are no\n",
    "elements greater than X.\n",
    "Yout Task:\n",
    "You just have to complete the given function greaterThanX() which takes 3 arguments(array arr, N and X) and returns the count of elements greater than X. The printing is done by the driver code.\n",
    "\n",
    "Expected Time Complexity: O(N).\n",
    "Expected Auxiliary Space: O(1).\n",
    "\n",
    "Constraints:\n",
    "1 <= N <= 106"
   ]
  },
  {
   "cell_type": "code",
   "execution_count": 10,
   "id": "99c9e164",
   "metadata": {},
   "outputs": [
    {
     "name": "stdout",
     "output_type": "stream",
     "text": [
      "Enter the size of the array: 5\n",
      "Enter array elements separated by space: 22 44 55 66 99\n",
      "Enter the value of X: 50\n",
      "3\n"
     ]
    }
   ],
   "source": [
    "# User function Template for python3\n",
    "\n",
    "def greaterThanX(arr, n, x):\n",
    "    count = 0\n",
    "    for i in arr:\n",
    "        if i > x:\n",
    "            count += 1\n",
    "    return count\n",
    "\n",
    "\n",
    "# User instructions\n",
    "n = int(input(\"Enter the size of the array: \"))\n",
    "arr = [int(e) for e in input(\"Enter array elements separated by space: \").split()]\n",
    "x = int(input(\"Enter the value of X: \"))\n",
    "\n",
    "ans = greaterThanX(arr, n, x)\n",
    "print(ans)\n"
   ]
  },
  {
   "cell_type": "markdown",
   "id": "b3f429a4",
   "metadata": {},
   "source": [
    "### Find Immediate Greater Than X\n",
    "\n",
    "Given an array arr[] of size N containing positive integers and an integer X. You need to find the value in the array which is greater than X and closest to it. ( if no such value exists the answer should be -1)\n",
    "\n",
    "Example 1:\n",
    "\n",
    "Input:\n",
    "N = 5\n",
    "arr[] = {4 67 13 12 15}\n",
    "X = 16\n",
    "Output: 67\n",
    "Explanation: For a given value 16, there\n",
    "is only one value 67 that greater than\n",
    "it and so it is the answer.\n",
    "Example 2:\n",
    "\n",
    "Input:\n",
    "N = 5\n",
    "arr[] = {1 2 3 4 5}\n",
    "X = 1\n",
    "Output: 2\n",
    "Explanation: For a given value 1, there\n",
    "are 4 values greater than it 2 3 4 5.\n",
    "But 2 is closest to 1 so it is the answer\n",
    "Your Task:\n",
    "Since this is a functional problem, you need to complete the given function immediateGreater() which takes 3 arguments(array arr, N and X) and returns the answer. The printing is done by the driver code.\n",
    "\n",
    "Expected Time Complexity: O(N).\n",
    "Expected Auxiliary Space: O(1).\n",
    "\n",
    "Constraints:\n",
    "1 <= N <= 103\n",
    "1 <= arr[i], X <= 104\n",
    "\n"
   ]
  },
  {
   "cell_type": "code",
   "execution_count": 11,
   "id": "b552159f",
   "metadata": {},
   "outputs": [
    {
     "name": "stdout",
     "output_type": "stream",
     "text": [
      "Enter the size of the array: 5\n",
      "Enter array elements separated by space: 4 2 3 6 8\n",
      "Enter the value of X: 3\n",
      "4\n"
     ]
    }
   ],
   "source": [
    "# User function Template for python3\n",
    "\n",
    "def immediateGreater(arr, n, x):\n",
    "    large_list = []\n",
    "    for i in arr:\n",
    "        if i > x:\n",
    "            large_list.append(i)\n",
    "    if len(large_list) == 0:\n",
    "        return -1\n",
    "    else:\n",
    "        return min(large_list)\n",
    "\n",
    "\n",
    "# User instructions\n",
    "n = int(input(\"Enter the size of the array: \"))\n",
    "arr = [int(e) for e in input(\"Enter array elements separated by space: \").split()]\n",
    "x = int(input(\"Enter the value of X: \"))\n",
    "\n",
    "ans = immediateGreater(arr, n, x)\n",
    "print(ans)\n"
   ]
  },
  {
   "cell_type": "markdown",
   "id": "86be3c80",
   "metadata": {},
   "source": [
    "### Who has the majority?\n",
    "\n",
    "Given an array arr[] of size N and two elements x and y, use counter variables to find which element appears most in the array. If both elements have the same frequency, then return the smaller element.\n",
    "Note:  We need to return the element, not its count.\n",
    "\n",
    " \n",
    "\n",
    "Example 1:\n",
    "\n",
    "Input:\n",
    "N = 11\n",
    "arr[] = {1,1,2,2,3,3,4,4,4,4,5}\n",
    "x = 4, y = 5\n",
    "Output: 4\n",
    "Explanation: \n",
    "frequency of 4 is 4.\n",
    "frequency of 5 is 1.\n",
    " \n",
    "\n",
    "Example 2:\n",
    "\n",
    "Input:\n",
    "N = 8\n",
    "arr[] = {1,2,3,4,5,6,7,8}\n",
    "x = 1, y = 7\n",
    "Output: 1\n",
    "Explanation: \n",
    "frequency of 1 is 1.\n",
    "frequency of 7 is 1.\n",
    "Since 1 < 7, return 1.\n",
    " \n",
    "\n",
    "Your Task:\n",
    "You don't need to read input or print anything. Complete the function majorityWins() that takes array, n, x, y as input parameters and return the element with higher frequency.\n",
    "\n",
    " \n",
    "\n",
    "Expected Time Complexity: O(N)\n",
    "Expected Auxiliary Space: O(1)\n",
    "\n",
    " \n",
    "\n",
    "Constraints:\n",
    "1 <= n <= 103\n",
    "0 <= arri , x , y <= 108"
   ]
  },
  {
   "cell_type": "code",
   "execution_count": 13,
   "id": "56033323",
   "metadata": {},
   "outputs": [
    {
     "name": "stdout",
     "output_type": "stream",
     "text": [
      "Enter the size of the array: 5\n",
      "Enter array elements separated by space: 1 1 5 5 6\n",
      "Enter two elements x and y separated by space: 5 1\n",
      "1\n"
     ]
    }
   ],
   "source": [
    "# User function Template for python3\n",
    "\n",
    "def majorityWins(arr, n, x, y):\n",
    "    count_x = arr.count(x)\n",
    "    count_y = arr.count(y)\n",
    "\n",
    "    if count_x > count_y:\n",
    "        return x\n",
    "    elif count_y > count_x:\n",
    "        return y\n",
    "    else:\n",
    "        return min(x, y)\n",
    "\n",
    "\n",
    "# User instructions\n",
    "n = int(input(\"Enter the size of the array: \"))\n",
    "arr = [int(x) for x in input(\"Enter array elements separated by space: \").strip().split()]\n",
    "x, y = map(int, input(\"Enter two elements x and y separated by space: \").strip().split())\n",
    "\n",
    "result = majorityWins(arr, n, x, y)\n",
    "print(result)\n"
   ]
  },
  {
   "cell_type": "markdown",
   "id": "6a3c53ed",
   "metadata": {},
   "source": [
    "### Largest Element in a List\n",
    "\n"
   ]
  },
  {
   "cell_type": "code",
   "execution_count": 17,
   "id": "4b696266",
   "metadata": {},
   "outputs": [
    {
     "name": "stdout",
     "output_type": "stream",
     "text": [
      "1 4 5 6\n",
      "6\n"
     ]
    }
   ],
   "source": [
    "def maxinlist(list1):\n",
    "    m=list1[0]\n",
    "    for i in list1:\n",
    "        if i>m:\n",
    "            m=i\n",
    "    return m\n",
    "list1=[int(x) for x in input().split()]\n",
    "print(maxinlist(list1))"
   ]
  },
  {
   "cell_type": "code",
   "execution_count": 19,
   "id": "60b0c1ef",
   "metadata": {},
   "outputs": [
    {
     "name": "stdout",
     "output_type": "stream",
     "text": [
      "1 4 2 5 33 66\n",
      "Max element in the list is 66\n"
     ]
    }
   ],
   "source": [
    "def mymax(list1):\n",
    "    if not list1:\n",
    "        return None\n",
    "    else:\n",
    "        m=list1[0]\n",
    "        for i in range(1,len(list1)):\n",
    "            if list1[i]>m:\n",
    "                m=list1[i]\n",
    "        return m\n",
    "    \n",
    "list1=[int(x) for x in input().split()]\n",
    "print(\"Max element in the list is\",mymax(list1))"
   ]
  },
  {
   "cell_type": "markdown",
   "id": "6ff6cb87",
   "metadata": {},
   "source": [
    "### Maximum and Minimum In Array\n",
    "\n",
    "Given an array arr of size n, find maximum and minimum elements in the array.\n",
    "\n",
    "Example 1:\n",
    "\n",
    "Input:\n",
    "N = 4\n",
    "arr[] = {5 4 2 1}\n",
    "Output: 5 1\n",
    "Example 2:\n",
    "\n",
    "Input:\n",
    "N = 1\n",
    "arr[] = {8}\n",
    "Output: 8 8\n",
    " \n",
    "\n",
    "Your Task:\n",
    "You only need to complete the provided functions maximumElement() and minimumElement() which takes 2 arguments(array arr and n) and returns the corresponding answers. The printing is done by the driver code.\n",
    "\n",
    "Expected Time Complexity: O(n).\n",
    "Expected Auxiliary Space: O(1).\n",
    "\n",
    "Constraints:\n",
    "1 ≤ n ≤ 103\n",
    "0 ≤ arr < 106"
   ]
  },
  {
   "cell_type": "code",
   "execution_count": 20,
   "id": "d147c729",
   "metadata": {},
   "outputs": [
    {
     "name": "stdout",
     "output_type": "stream",
     "text": [
      "Enter the size of the array: 5\n",
      "Enter array elements separated by space: 1 2 3 4 5\n",
      "5 1\n"
     ]
    }
   ],
   "source": [
    "# User function Template for python3\n",
    "\n",
    "def maximumElement(arr, n):\n",
    "    if not arr:\n",
    "        return None\n",
    "    else:\n",
    "        max1 = arr[0]\n",
    "        for i in range(1, n):\n",
    "            if arr[i] > max1:\n",
    "                max1 = arr[i]\n",
    "        return max1\n",
    "\n",
    "\n",
    "def minimumElement(arr, n):\n",
    "    if not arr:\n",
    "        return None\n",
    "    else:\n",
    "        min1 = arr[0]\n",
    "        for i in range(1, n):\n",
    "            if arr[i] < min1:\n",
    "                min1 = arr[i]\n",
    "        return min1\n",
    "\n",
    "\n",
    "# User instructions\n",
    "n = int(input(\"Enter the size of the array: \"))\n",
    "arr = [int(e) for e in input(\"Enter array elements separated by space: \").split()]\n",
    "\n",
    "max_element = maximumElement(arr, n)\n",
    "min_element = minimumElement(arr, n)\n",
    "print(max_element, min_element)\n"
   ]
  },
  {
   "cell_type": "markdown",
   "id": "66f4a181",
   "metadata": {},
   "source": [
    "### Second Largest"
   ]
  },
  {
   "cell_type": "code",
   "execution_count": 25,
   "id": "9c433c6e",
   "metadata": {},
   "outputs": [
    {
     "name": "stdout",
     "output_type": "stream",
     "text": [
      "Enter list elements with space seperated1 4 7 8 9 6 3 2 5\n",
      "8\n"
     ]
    }
   ],
   "source": [
    "def secondlarge(arr,n):\n",
    "    if n<2:\n",
    "        return \"List should contain atleast 2 elements\"\n",
    "    lar=slar=-2147483648\n",
    "    for num in arr:\n",
    "        if num>lar:\n",
    "            slar=lar\n",
    "            lar=num\n",
    "        elif num>slar and num!=lar:\n",
    "            slar=num\n",
    "    if(slar==-2147483648):\n",
    "        return \"No second largest element found\"\n",
    "    else:\n",
    "        return slar\n",
    "arr=[int(x) for x in input(\"Enter list elements with space seperated\").split()]\n",
    "n=len(arr)\n",
    "print(secondlarge(arr,n))\n",
    "    "
   ]
  },
  {
   "cell_type": "code",
   "execution_count": 12,
   "id": "fa185735",
   "metadata": {},
   "outputs": [
    {
     "name": "stdout",
     "output_type": "stream",
     "text": [
      "Enter array values with seperated by space:22 22\n",
      "Array is not Sorted\n"
     ]
    }
   ],
   "source": [
    "def arraySortedOrNot(arr, n):\n",
    "    if (n == 0 or n == 1):\n",
    "        return True\n",
    "    for i in range(1, n):\n",
    "        if (arr[i-1] >arr[i]):\n",
    "            return False\n",
    "arr=[x for x in input(\"Enter array values with seperated by space:\").split()]\n",
    "n=len(arr)\n",
    "if sorting(arr):\n",
    "    print(\"Array is sorted\")\n",
    "else:\n",
    "    print(\"Array is not Sorted\")\n",
    "            "
   ]
  },
  {
   "cell_type": "markdown",
   "id": "25de65e3",
   "metadata": {},
   "source": [
    "### Is Array Sorted\n",
    "\n",
    "Given an array a[ ] of size N. The task is to check if array is sorted or not. A sorted array can either be increasingly sorted or decreasingly sorted. Also consider duplicate elements to be sorted.\n",
    "\n",
    "Example 1:\n",
    "\n",
    "Input:\n",
    "N = 5\n",
    "a[] = {1 1 2 2 3}\n",
    "Output: 1\n",
    "Example 2:\n",
    "\n",
    "Input:\n",
    "N = 2\n",
    "a[] = {4 2}\n",
    "Output: 1\n",
    "Your Task:\n",
    "You just need to complete the function isSorted() that takes arr and n as parameters and returns 0 if arr is unsorted and returns 1 if arr is sorted.\n",
    "\n",
    "Expected Time Complexity: O(N).\n",
    "Expected Auxiliary Space: O(1).\n",
    "\n",
    "Constraints:\n",
    "1 <= N <= 106\n",
    "1 <= a[i] <= 106"
   ]
  },
  {
   "cell_type": "code",
   "execution_count": 2,
   "id": "639b9719",
   "metadata": {},
   "outputs": [
    {
     "name": "stdout",
     "output_type": "stream",
     "text": [
      "Enter array size: 5\n",
      "Enter array elements separated by space: 2 3 4 5 6\n",
      "1\n"
     ]
    }
   ],
   "source": [
    "def isSorted(arr, n):\n",
    "    inc = dec = 1\n",
    "    for i in range(1, n):\n",
    "        if arr[i - 1] > arr[i]:\n",
    "            inc = 0\n",
    "        elif arr[i - 1] < arr[i]:\n",
    "            dec = 0\n",
    "    return inc or dec\n",
    "\n",
    "\n",
    "# User input instructions\n",
    "n = int(input(\"Enter array size: \"))\n",
    "arr = [int(x) for x in input(\"Enter array elements separated by space: \").split()]\n",
    "\n",
    "# Function call\n",
    "result = isSorted(arr, n)\n",
    "\n",
    "# Print the result\n",
    "print(result)\n"
   ]
  },
  {
   "cell_type": "markdown",
   "id": "16d2bd88",
   "metadata": {},
   "source": [
    "### Reverse The Array\n",
    "Given an array arr of size n. You need to reverse the array.\n",
    "\n",
    "Example 1:\n",
    "\n",
    "Input:\n",
    "n = 5\n",
    "arr[] = {1 1 2 2 3}\n",
    "Output: 3 2 2 1 1\n",
    "Example 2:\n",
    "\n",
    "Input:\n",
    "n = 2\n",
    "arr[] = {4 2}\n",
    "Output: 2 4\n",
    "Your Task:\n",
    "You just need to complete the function reverseArray() that takes arr and n as parameters and reverses arr. The driver code then prints arr.\n",
    "\n",
    "Expected Time Complexity: O(n).\n",
    "Expected Auxiliary Space: O(1).\n",
    "\n",
    "Constraints:\n",
    "1 <= n  <= 106\n",
    "1 <= arri <= 106\n",
    "\n"
   ]
  },
  {
   "cell_type": "code",
   "execution_count": 4,
   "id": "9d69da57",
   "metadata": {},
   "outputs": [
    {
     "name": "stdout",
     "output_type": "stream",
     "text": [
      "Enter the number of test cases: 1\n",
      "Enter array size: 5\n",
      "Enter array elements separated by space: 1 6 2 4 5\n",
      "5 4 2 6 1 \n"
     ]
    }
   ],
   "source": [
    "def reverseArray(arr, n):\n",
    "    start = 0\n",
    "    end = n - 1\n",
    "    while start < end:\n",
    "        arr[start], arr[end] = arr[end], arr[start]\n",
    "        start += 1\n",
    "        end -= 1\n",
    "\n",
    "\n",
    "# User input instructions\n",
    "tcs = int(input(\"Enter the number of test cases: \"))\n",
    "\n",
    "for _ in range(tcs):\n",
    "    n = int(input(\"Enter array size: \"))\n",
    "    arr = [int(x) for x in input(\"Enter array elements separated by space: \").split()]\n",
    "\n",
    "    # Function call\n",
    "    reverseArray(arr, n)\n",
    "\n",
    "    # Print the reversed array\n",
    "    for e in arr:\n",
    "        print(e, end=' ')\n",
    "    print()\n"
   ]
  },
  {
   "cell_type": "markdown",
   "id": "63e713f4",
   "metadata": {},
   "source": [
    "### Remove Duplicates"
   ]
  },
  {
   "cell_type": "code",
   "execution_count": 7,
   "id": "62e492ee",
   "metadata": {},
   "outputs": [
    {
     "name": "stdout",
     "output_type": "stream",
     "text": [
      "Enter Array elements separated by space:1 22 3 3\n",
      "[1, 3, 22]\n"
     ]
    }
   ],
   "source": [
    "def removeduplicates(arr):\n",
    "    res = 1\n",
    "    n = len(arr)\n",
    "    for i in range(1, n):\n",
    "        if arr[res - 1] != arr[i]:\n",
    "            arr[res] = arr[i]\n",
    "            res += 1\n",
    "    return arr[:res]\n",
    "\n",
    "arr = [int(x) for x in input(\"Enter Array elements separated by space:\").split()]\n",
    "arr.sort()\n",
    "print(removeduplicates(arr))\n"
   ]
  },
  {
   "cell_type": "markdown",
   "id": "74d96710",
   "metadata": {},
   "source": [
    "### Rotate Array\n",
    "\n",
    "Given an unsorted array arr[] of size N. Rotate the array to the left (counter-clockwise direction) by D steps, where D is a positive integer. \n",
    "\n",
    " \n",
    "\n",
    "Example 1:\n",
    "\n",
    "Input:\n",
    "N = 5, D = 2\n",
    "arr[] = {1,2,3,4,5}\n",
    "Output: 3 4 5 1 2\n",
    "Explanation: 1 2 3 4 5  when rotated\n",
    "by 2 elements, it becomes 3 4 5 1 2.\n",
    "Example 2:\n",
    "\n",
    "Input:\n",
    "N = 10, D = 3\n",
    "arr[] = {2,4,6,8,10,12,14,16,18,20}\n",
    "Output: 8 10 12 14 16 18 20 2 4 6\n",
    "Explanation: 2 4 6 8 10 12 14 16 18 20 \n",
    "when rotated by 3 elements, it becomes \n",
    "8 10 12 14 16 18 20 2 4 6.\n",
    " \n",
    "\n",
    "Your Task:\n",
    "You need not print or read anything. You need to complete the function rotateArr() which takes the array, D and N as input parameters and rotates the array by D elements. The array must be modified in-place without using extra space. \n",
    "\n",
    " \n",
    "\n",
    "Expected Time Complexity: O(N)\n",
    "Expected Auxiliary Space: O(1)\n",
    "\n",
    " \n",
    "\n",
    "Constraints:\n",
    "1 <= N <= 106\n",
    "1 <= D <= 106\n",
    "0 <= arr[i] <= 105"
   ]
  },
  {
   "cell_type": "code",
   "execution_count": 13,
   "id": "7d4d845e",
   "metadata": {},
   "outputs": [
    {
     "name": "stdout",
     "output_type": "stream",
     "text": [
      "1 \n",
      "6 10\n",
      "1 2 3 4 5 6\n",
      "5 6 1 2 3 4 \n"
     ]
    }
   ],
   "source": [
    "#User function Template for python3\n",
    "\n",
    "class Solution:\n",
    "    #Function to rotate an array by d elements in counter-clockwise direction. \n",
    "    def rotateArr(self,A,D,N):\n",
    "        D=D%N\n",
    "        A[:]=A[D:]+A[:D]\n",
    "        return A\n",
    "\n",
    "#{ \n",
    " # Driver Code Starts\n",
    "#Initial Template for Python 3\n",
    "\n",
    "import math\n",
    "def main():\n",
    "    T=int(input())\n",
    "    \n",
    "    while(T>0):\n",
    "        nd=[int(x) for x in input().strip().split()]\n",
    "        N=nd[0]\n",
    "        D=nd[1]\n",
    "        A=[int(x) for x in input().strip().split()]\n",
    "        ob=Solution()\n",
    "        ob.rotateArr(A,D,N)\n",
    "        \n",
    "        for i in A:\n",
    "            print(i,end=\" \")\n",
    "            \n",
    "        print()\n",
    "       \n",
    "        T-=1\n",
    "\n",
    "if __name__==\"__main__\":\n",
    "    main()\n",
    "# } Driver Code Ends"
   ]
  },
  {
   "cell_type": "code",
   "execution_count": 19,
   "id": "39fc6d8d",
   "metadata": {},
   "outputs": [
    {
     "name": "stdout",
     "output_type": "stream",
     "text": [
      "5\n"
     ]
    }
   ],
   "source": [
    "# Python program to find the element occurring odd number of times\n",
    "\n",
    "def getOddOccurrence(arr):\n",
    "\n",
    "    # Initialize result\n",
    "    res = 0\n",
    "\n",
    "    # Traverse the array\n",
    "    for element in arr:\n",
    "        # XOR with the result\n",
    "        res = res ^ element\n",
    "\n",
    "    return res\n",
    "\n",
    "# Test array\n",
    "arr = [2, 3, 5, 4, 5, 2, 4, 3, 5, 2, 4, 4, 2]\n",
    "\n",
    "print(\"%d\" % getOddOccurrence(arr))\n"
   ]
  }
 ],
 "metadata": {
  "kernelspec": {
   "display_name": "Python 3 (ipykernel)",
   "language": "python",
   "name": "python3"
  },
  "language_info": {
   "codemirror_mode": {
    "name": "ipython",
    "version": 3
   },
   "file_extension": ".py",
   "mimetype": "text/x-python",
   "name": "python",
   "nbconvert_exporter": "python",
   "pygments_lexer": "ipython3",
   "version": "3.9.13"
  }
 },
 "nbformat": 4,
 "nbformat_minor": 5
}
